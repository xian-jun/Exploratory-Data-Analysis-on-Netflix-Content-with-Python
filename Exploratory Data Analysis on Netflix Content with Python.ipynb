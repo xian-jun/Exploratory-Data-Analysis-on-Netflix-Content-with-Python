{
 "cells": [
  {
   "cell_type": "markdown",
   "id": "889d2466",
   "metadata": {
    "toc": true
   },
   "source": [
    "<h1>Table of Contents<span class=\"tocSkip\"></span></h1>\n",
    "<div class=\"toc\"><ul class=\"toc-item\"><li><span><a href=\"#Introduction\" data-toc-modified-id=\"Introduction-1\"><span class=\"toc-item-num\">1&nbsp;&nbsp;</span>Introduction</a></span></li><li><span><a href=\"#Finding-the-Dataset\" data-toc-modified-id=\"Finding-the-Dataset-2\"><span class=\"toc-item-num\">2&nbsp;&nbsp;</span>Finding the Dataset</a></span></li><li><span><a href=\"#Research-Questions\" data-toc-modified-id=\"Research-Questions-3\"><span class=\"toc-item-num\">3&nbsp;&nbsp;</span>Research Questions</a></span></li><li><span><a href=\"#Data-Processing\" data-toc-modified-id=\"Data-Processing-4\"><span class=\"toc-item-num\">4&nbsp;&nbsp;</span>Data Processing</a></span><ul class=\"toc-item\"><li><span><a href=\"#Import-Tables-and-Libraries\" data-toc-modified-id=\"Import-Tables-and-Libraries-4.1\"><span class=\"toc-item-num\">4.1&nbsp;&nbsp;</span>Import Tables and Libraries</a></span></li><li><span><a href=\"#Data-Overview\" data-toc-modified-id=\"Data-Overview-4.2\"><span class=\"toc-item-num\">4.2&nbsp;&nbsp;</span>Data Overview</a></span></li><li><span><a href=\"#Data-Cleaning-Process\" data-toc-modified-id=\"Data-Cleaning-Process-4.3\"><span class=\"toc-item-num\">4.3&nbsp;&nbsp;</span>Data Cleaning Process</a></span></li><li><span><a href=\"#Feature-Extraction\" data-toc-modified-id=\"Feature-Extraction-4.4\"><span class=\"toc-item-num\">4.4&nbsp;&nbsp;</span>Feature Extraction</a></span></li></ul></li><li><span><a href=\"#Data-Aggregation-and-Visualization-Analysis\" data-toc-modified-id=\"Data-Aggregation-and-Visualization-Analysis-5\"><span class=\"toc-item-num\">5&nbsp;&nbsp;</span>Data Aggregation and Visualization Analysis</a></span><ul class=\"toc-item\"><li><span><a href=\"#Correlation\" data-toc-modified-id=\"Correlation-5.1\"><span class=\"toc-item-num\">5.1&nbsp;&nbsp;</span>Correlation</a></span></li><li><span><a href=\"#Research-Questions-Analysis\" data-toc-modified-id=\"Research-Questions-Analysis-5.2\"><span class=\"toc-item-num\">5.2&nbsp;&nbsp;</span>Research Questions Analysis</a></span><ul class=\"toc-item\"><li><span><a href=\"#Do-clients-like-movie-or-show?\" data-toc-modified-id=\"Do-clients-like-movie-or-show?-5.2.1\"><span class=\"toc-item-num\">5.2.1&nbsp;&nbsp;</span>Do clients like movie or show?</a></span><ul class=\"toc-item\"><li><span><a href=\"#Popularity-analysis-for-type-of-content\" data-toc-modified-id=\"Popularity-analysis-for-type-of-content-5.2.1.1\"><span class=\"toc-item-num\">5.2.1.1&nbsp;&nbsp;</span>Popularity analysis for type of content</a></span></li><li><span><a href=\"#Review-rating-analysis-for-type-of-content\" data-toc-modified-id=\"Review-rating-analysis-for-type-of-content-5.2.1.2\"><span class=\"toc-item-num\">5.2.1.2&nbsp;&nbsp;</span>Review rating analysis for type of content</a></span></li></ul></li><li><span><a href=\"#How-do-TV-series-do-in-general?\" data-toc-modified-id=\"How-do-TV-series-do-in-general?-5.2.2\"><span class=\"toc-item-num\">5.2.2&nbsp;&nbsp;</span>How do TV series do in general?</a></span><ul class=\"toc-item\"><li><span><a href=\"#Popularity-analysis-of-series\" data-toc-modified-id=\"Popularity-analysis-of-series-5.2.2.1\"><span class=\"toc-item-num\">5.2.2.1&nbsp;&nbsp;</span>Popularity analysis of series</a></span></li><li><span><a href=\"#Review-rating-analysis-of-series\" data-toc-modified-id=\"Review-rating-analysis-of-series-5.2.2.2\"><span class=\"toc-item-num\">5.2.2.2&nbsp;&nbsp;</span>Review rating analysis of series</a></span></li></ul></li><li><span><a href=\"#Which-genres-are-the-clients-favourite?\" data-toc-modified-id=\"Which-genres-are-the-clients-favourite?-5.2.3\"><span class=\"toc-item-num\">5.2.3&nbsp;&nbsp;</span>Which genres are the clients favourite?</a></span><ul class=\"toc-item\"><li><span><a href=\"#The-10-most-popular-genres-for-shows\" data-toc-modified-id=\"The-10-most-popular-genres-for-shows-5.2.3.1\"><span class=\"toc-item-num\">5.2.3.1&nbsp;&nbsp;</span>The 10 most popular genres for shows</a></span></li><li><span><a href=\"#The-10-most-popular-genres-for-movies\" data-toc-modified-id=\"The-10-most-popular-genres-for-movies-5.2.3.2\"><span class=\"toc-item-num\">5.2.3.2&nbsp;&nbsp;</span>The 10 most popular genres for movies</a></span></li></ul></li><li><span><a href=\"#What-is-the-distribution-of-content-from-different-production-countries?\" data-toc-modified-id=\"What-is-the-distribution-of-content-from-different-production-countries?-5.2.4\"><span class=\"toc-item-num\">5.2.4&nbsp;&nbsp;</span>What is the distribution of content from different production countries?</a></span><ul class=\"toc-item\"><li><span><a href=\"#For-Shows\" data-toc-modified-id=\"For-Shows-5.2.4.1\"><span class=\"toc-item-num\">5.2.4.1&nbsp;&nbsp;</span>For Shows</a></span></li><li><span><a href=\"#For-Movies\" data-toc-modified-id=\"For-Movies-5.2.4.2\"><span class=\"toc-item-num\">5.2.4.2&nbsp;&nbsp;</span>For Movies</a></span></li></ul></li><li><span><a href=\"#Explore-age-certifications\" data-toc-modified-id=\"Explore-age-certifications-5.2.5\"><span class=\"toc-item-num\">5.2.5&nbsp;&nbsp;</span>Explore age certifications</a></span><ul class=\"toc-item\"><li><span><a href=\"#For-Shows\" data-toc-modified-id=\"For-Shows-5.2.5.1\"><span class=\"toc-item-num\">5.2.5.1&nbsp;&nbsp;</span>For Shows</a></span></li><li><span><a href=\"#For-Movies\" data-toc-modified-id=\"For-Movies-5.2.5.2\"><span class=\"toc-item-num\">5.2.5.2&nbsp;&nbsp;</span>For Movies</a></span></li></ul></li></ul></li></ul></li><li><span><a href=\"#Machine-Learning---K-Means\" data-toc-modified-id=\"Machine-Learning---K-Means-6\"><span class=\"toc-item-num\">6&nbsp;&nbsp;</span>Machine Learning - K-Means</a></span><ul class=\"toc-item\"><li><span><a href=\"#Data-Pre-processing-for-Clustering\" data-toc-modified-id=\"Data-Pre-processing-for-Clustering-6.1\"><span class=\"toc-item-num\">6.1&nbsp;&nbsp;</span>Data Pre-processing for Clustering</a></span></li><li><span><a href=\"#Dimensionality-Reduction\" data-toc-modified-id=\"Dimensionality-Reduction-6.2\"><span class=\"toc-item-num\">6.2&nbsp;&nbsp;</span>Dimensionality Reduction</a></span><ul class=\"toc-item\"><li><span><a href=\"#Data-Visualization\" data-toc-modified-id=\"Data-Visualization-6.2.1\"><span class=\"toc-item-num\">6.2.1&nbsp;&nbsp;</span>Data Visualization</a></span></li><li><span><a href=\"#K-Means-with-Elbow-to-find-the-best-number-of-cluster\" data-toc-modified-id=\"K-Means-with-Elbow-to-find-the-best-number-of-cluster-6.2.2\"><span class=\"toc-item-num\">6.2.2&nbsp;&nbsp;</span>K-Means with Elbow to find the best number of cluster</a></span></li><li><span><a href=\"#Clustering\" data-toc-modified-id=\"Clustering-6.2.3\"><span class=\"toc-item-num\">6.2.3&nbsp;&nbsp;</span>Clustering</a></span></li><li><span><a href=\"#Model-Evaluation\" data-toc-modified-id=\"Model-Evaluation-6.2.4\"><span class=\"toc-item-num\">6.2.4&nbsp;&nbsp;</span>Model Evaluation</a></span></li></ul></li></ul></li><li><span><a href=\"#Conclusion\" data-toc-modified-id=\"Conclusion-7\"><span class=\"toc-item-num\">7&nbsp;&nbsp;</span>Conclusion</a></span></li></ul></div>"
   ]
  },
  {
   "cell_type": "markdown",
   "id": "c6259d83",
   "metadata": {},
   "source": [
    "# Introduction"
   ]
  },
  {
   "cell_type": "markdown",
   "id": "4ce30384",
   "metadata": {},
   "source": [
    "Throughout the past decade, Netflix has grown from a humble DVD-renter in California to the largest video entertainment platform in the world by market capitalization. One of the greatest competitive edge of Netflix is how efficiently they can engage with its clients and leverage the data collected to provide guidance such as personalized recommendations, content production, market expansion, etc.  This ability is an absolute game-changer as this create a positive feedback loop as Netflix grows. The more users Netflix possesses, the more data it has at its disposal. \n",
    "<br>\n",
    "\n",
    "In this project, the content (shows and movies) are perused carefully to allow for the executives in the company to customize the platform's future content accordingly. \n"
   ]
  },
  {
   "cell_type": "markdown",
   "id": "48bdc29d",
   "metadata": {},
   "source": [
    "# Finding the Dataset"
   ]
  },
  {
   "cell_type": "markdown",
   "id": "706a0a6c",
   "metadata": {},
   "source": [
    "The dataset used in this analysis is `titles.csv`under “Netflix TV Shows and Movies” retrieved from Kaggle (source: https://www.kaggle.com/datasets/victorsoeiro/netflix-tv-shows-and-movies?select=titles.csv). The dataset contains a total of 15 unique columns and 5806 observations. Each row records the data of a show or a movie registered in the Netflix database that includes id, title, description, genres, production countries, age certifications, runtime, etc.\n",
    "\n",
    "The dataset was chosen because it is extensive, structured and complete but still requires some data cleaning and preparation required by the group project. Extensive analysis is carried out on the dataset to help executives in Netflix to customise the platform's future content accordingly. In the case of machine learning, The dataset also allows us to conduct clustering analysis. "
   ]
  },
  {
   "cell_type": "markdown",
   "id": "26318b9f",
   "metadata": {},
   "source": [
    " # Research Questions \n",
    " \n",
    "In this project, the content (shows and movies) are perused carefully to allow for the executives in the company to customize the platform's future content accordingly. Research questions are asked to dive into the discourse:"
   ]
  },
  {
   "cell_type": "markdown",
   "id": "27e62854",
   "metadata": {},
   "source": [
    "1. Do clients like movie or show?\n",
    "2. How do TV series do in general?\n",
    "3. Which genres of shows and movies are the most popular among the clients?\n",
    "4. What is the distribution of content from different production countries?\n",
    "5. What are the most popular age certifications for content on Netflix?\n",
    "6. How can the data be grouped for clustering analysis?"
   ]
  },
  {
   "cell_type": "markdown",
   "id": "7b727031",
   "metadata": {},
   "source": [
    "# Data Processing"
   ]
  },
  {
   "cell_type": "markdown",
   "id": "e73a28f9",
   "metadata": {},
   "source": [
    "## Import Tables and Libraries"
   ]
  },
  {
   "cell_type": "code",
   "execution_count": 1,
   "id": "2e69104a",
   "metadata": {},
   "outputs": [],
   "source": [
    "# import libraries \n",
    "\n",
    "import pandas as pd\n",
    "import numpy as np\n",
    "\n",
    "import seaborn as sns\n",
    "import matplotlib.pyplot as plt"
   ]
  },
  {
   "cell_type": "code",
   "execution_count": 2,
   "id": "0e4f79d1",
   "metadata": {},
   "outputs": [],
   "source": [
    "# import dataframe\n",
    "\n",
    "df_titles = pd.read_csv(\"C://Users/Admin/Desktop/000 - data science/big data computing/titles.csv\")"
   ]
  },
  {
   "cell_type": "markdown",
   "id": "4ab3f60c",
   "metadata": {},
   "source": [
    "## Data Overview"
   ]
  },
  {
   "cell_type": "code",
   "execution_count": 3,
   "id": "faf2ad9c",
   "metadata": {
    "scrolled": true
   },
   "outputs": [
    {
     "data": {
      "text/html": [
       "<div>\n",
       "<style scoped>\n",
       "    .dataframe tbody tr th:only-of-type {\n",
       "        vertical-align: middle;\n",
       "    }\n",
       "\n",
       "    .dataframe tbody tr th {\n",
       "        vertical-align: top;\n",
       "    }\n",
       "\n",
       "    .dataframe thead th {\n",
       "        text-align: right;\n",
       "    }\n",
       "</style>\n",
       "<table border=\"1\" class=\"dataframe\">\n",
       "  <thead>\n",
       "    <tr style=\"text-align: right;\">\n",
       "      <th></th>\n",
       "      <th>id</th>\n",
       "      <th>title</th>\n",
       "      <th>type</th>\n",
       "      <th>description</th>\n",
       "      <th>release_year</th>\n",
       "      <th>age_certification</th>\n",
       "      <th>runtime</th>\n",
       "      <th>genres</th>\n",
       "      <th>production_countries</th>\n",
       "      <th>seasons</th>\n",
       "      <th>imdb_id</th>\n",
       "      <th>imdb_score</th>\n",
       "      <th>imdb_votes</th>\n",
       "      <th>tmdb_popularity</th>\n",
       "      <th>tmdb_score</th>\n",
       "    </tr>\n",
       "  </thead>\n",
       "  <tbody>\n",
       "    <tr>\n",
       "      <th>count</th>\n",
       "      <td>5806</td>\n",
       "      <td>5805</td>\n",
       "      <td>5806</td>\n",
       "      <td>5788</td>\n",
       "      <td>5806.000000</td>\n",
       "      <td>3196</td>\n",
       "      <td>5806.000000</td>\n",
       "      <td>5806</td>\n",
       "      <td>5806</td>\n",
       "      <td>2047.000000</td>\n",
       "      <td>5362</td>\n",
       "      <td>5283.000000</td>\n",
       "      <td>5.267000e+03</td>\n",
       "      <td>5712.000000</td>\n",
       "      <td>5488.000000</td>\n",
       "    </tr>\n",
       "    <tr>\n",
       "      <th>unique</th>\n",
       "      <td>5806</td>\n",
       "      <td>5751</td>\n",
       "      <td>2</td>\n",
       "      <td>5785</td>\n",
       "      <td>NaN</td>\n",
       "      <td>11</td>\n",
       "      <td>NaN</td>\n",
       "      <td>1626</td>\n",
       "      <td>449</td>\n",
       "      <td>NaN</td>\n",
       "      <td>5362</td>\n",
       "      <td>NaN</td>\n",
       "      <td>NaN</td>\n",
       "      <td>NaN</td>\n",
       "      <td>NaN</td>\n",
       "    </tr>\n",
       "    <tr>\n",
       "      <th>top</th>\n",
       "      <td>tm371882</td>\n",
       "      <td>Connected</td>\n",
       "      <td>MOVIE</td>\n",
       "      <td>Five families struggle with the ups and downs ...</td>\n",
       "      <td>NaN</td>\n",
       "      <td>TV-MA</td>\n",
       "      <td>NaN</td>\n",
       "      <td>['comedy']</td>\n",
       "      <td>['US']</td>\n",
       "      <td>NaN</td>\n",
       "      <td>tt9164986</td>\n",
       "      <td>NaN</td>\n",
       "      <td>NaN</td>\n",
       "      <td>NaN</td>\n",
       "      <td>NaN</td>\n",
       "    </tr>\n",
       "    <tr>\n",
       "      <th>freq</th>\n",
       "      <td>1</td>\n",
       "      <td>3</td>\n",
       "      <td>3759</td>\n",
       "      <td>2</td>\n",
       "      <td>NaN</td>\n",
       "      <td>841</td>\n",
       "      <td>NaN</td>\n",
       "      <td>510</td>\n",
       "      <td>1950</td>\n",
       "      <td>NaN</td>\n",
       "      <td>1</td>\n",
       "      <td>NaN</td>\n",
       "      <td>NaN</td>\n",
       "      <td>NaN</td>\n",
       "      <td>NaN</td>\n",
       "    </tr>\n",
       "    <tr>\n",
       "      <th>mean</th>\n",
       "      <td>NaN</td>\n",
       "      <td>NaN</td>\n",
       "      <td>NaN</td>\n",
       "      <td>NaN</td>\n",
       "      <td>2016.013434</td>\n",
       "      <td>NaN</td>\n",
       "      <td>77.643989</td>\n",
       "      <td>NaN</td>\n",
       "      <td>NaN</td>\n",
       "      <td>2.165608</td>\n",
       "      <td>NaN</td>\n",
       "      <td>6.533447</td>\n",
       "      <td>2.340719e+04</td>\n",
       "      <td>22.525660</td>\n",
       "      <td>6.818039</td>\n",
       "    </tr>\n",
       "    <tr>\n",
       "      <th>std</th>\n",
       "      <td>NaN</td>\n",
       "      <td>NaN</td>\n",
       "      <td>NaN</td>\n",
       "      <td>NaN</td>\n",
       "      <td>7.324883</td>\n",
       "      <td>NaN</td>\n",
       "      <td>39.474160</td>\n",
       "      <td>NaN</td>\n",
       "      <td>NaN</td>\n",
       "      <td>2.636207</td>\n",
       "      <td>NaN</td>\n",
       "      <td>1.160932</td>\n",
       "      <td>8.713432e+04</td>\n",
       "      <td>68.849177</td>\n",
       "      <td>1.171560</td>\n",
       "    </tr>\n",
       "    <tr>\n",
       "      <th>min</th>\n",
       "      <td>NaN</td>\n",
       "      <td>NaN</td>\n",
       "      <td>NaN</td>\n",
       "      <td>NaN</td>\n",
       "      <td>1945.000000</td>\n",
       "      <td>NaN</td>\n",
       "      <td>0.000000</td>\n",
       "      <td>NaN</td>\n",
       "      <td>NaN</td>\n",
       "      <td>1.000000</td>\n",
       "      <td>NaN</td>\n",
       "      <td>1.500000</td>\n",
       "      <td>5.000000e+00</td>\n",
       "      <td>0.009442</td>\n",
       "      <td>0.500000</td>\n",
       "    </tr>\n",
       "    <tr>\n",
       "      <th>25%</th>\n",
       "      <td>NaN</td>\n",
       "      <td>NaN</td>\n",
       "      <td>NaN</td>\n",
       "      <td>NaN</td>\n",
       "      <td>2015.000000</td>\n",
       "      <td>NaN</td>\n",
       "      <td>44.000000</td>\n",
       "      <td>NaN</td>\n",
       "      <td>NaN</td>\n",
       "      <td>1.000000</td>\n",
       "      <td>NaN</td>\n",
       "      <td>5.800000</td>\n",
       "      <td>5.210000e+02</td>\n",
       "      <td>3.155250</td>\n",
       "      <td>6.100000</td>\n",
       "    </tr>\n",
       "    <tr>\n",
       "      <th>50%</th>\n",
       "      <td>NaN</td>\n",
       "      <td>NaN</td>\n",
       "      <td>NaN</td>\n",
       "      <td>NaN</td>\n",
       "      <td>2018.000000</td>\n",
       "      <td>NaN</td>\n",
       "      <td>84.000000</td>\n",
       "      <td>NaN</td>\n",
       "      <td>NaN</td>\n",
       "      <td>1.000000</td>\n",
       "      <td>NaN</td>\n",
       "      <td>6.600000</td>\n",
       "      <td>2.279000e+03</td>\n",
       "      <td>7.478000</td>\n",
       "      <td>6.900000</td>\n",
       "    </tr>\n",
       "    <tr>\n",
       "      <th>75%</th>\n",
       "      <td>NaN</td>\n",
       "      <td>NaN</td>\n",
       "      <td>NaN</td>\n",
       "      <td>NaN</td>\n",
       "      <td>2020.000000</td>\n",
       "      <td>NaN</td>\n",
       "      <td>105.000000</td>\n",
       "      <td>NaN</td>\n",
       "      <td>NaN</td>\n",
       "      <td>2.000000</td>\n",
       "      <td>NaN</td>\n",
       "      <td>7.400000</td>\n",
       "      <td>1.014400e+04</td>\n",
       "      <td>17.775750</td>\n",
       "      <td>7.500000</td>\n",
       "    </tr>\n",
       "    <tr>\n",
       "      <th>max</th>\n",
       "      <td>NaN</td>\n",
       "      <td>NaN</td>\n",
       "      <td>NaN</td>\n",
       "      <td>NaN</td>\n",
       "      <td>2022.000000</td>\n",
       "      <td>NaN</td>\n",
       "      <td>251.000000</td>\n",
       "      <td>NaN</td>\n",
       "      <td>NaN</td>\n",
       "      <td>42.000000</td>\n",
       "      <td>NaN</td>\n",
       "      <td>9.600000</td>\n",
       "      <td>2.268288e+06</td>\n",
       "      <td>1823.374000</td>\n",
       "      <td>10.000000</td>\n",
       "    </tr>\n",
       "  </tbody>\n",
       "</table>\n",
       "</div>"
      ],
      "text/plain": [
       "              id      title   type  \\\n",
       "count       5806       5805   5806   \n",
       "unique      5806       5751      2   \n",
       "top     tm371882  Connected  MOVIE   \n",
       "freq           1          3   3759   \n",
       "mean         NaN        NaN    NaN   \n",
       "std          NaN        NaN    NaN   \n",
       "min          NaN        NaN    NaN   \n",
       "25%          NaN        NaN    NaN   \n",
       "50%          NaN        NaN    NaN   \n",
       "75%          NaN        NaN    NaN   \n",
       "max          NaN        NaN    NaN   \n",
       "\n",
       "                                              description  release_year  \\\n",
       "count                                                5788   5806.000000   \n",
       "unique                                               5785           NaN   \n",
       "top     Five families struggle with the ups and downs ...           NaN   \n",
       "freq                                                    2           NaN   \n",
       "mean                                                  NaN   2016.013434   \n",
       "std                                                   NaN      7.324883   \n",
       "min                                                   NaN   1945.000000   \n",
       "25%                                                   NaN   2015.000000   \n",
       "50%                                                   NaN   2018.000000   \n",
       "75%                                                   NaN   2020.000000   \n",
       "max                                                   NaN   2022.000000   \n",
       "\n",
       "       age_certification      runtime      genres production_countries  \\\n",
       "count               3196  5806.000000        5806                 5806   \n",
       "unique                11          NaN        1626                  449   \n",
       "top                TV-MA          NaN  ['comedy']               ['US']   \n",
       "freq                 841          NaN         510                 1950   \n",
       "mean                 NaN    77.643989         NaN                  NaN   \n",
       "std                  NaN    39.474160         NaN                  NaN   \n",
       "min                  NaN     0.000000         NaN                  NaN   \n",
       "25%                  NaN    44.000000         NaN                  NaN   \n",
       "50%                  NaN    84.000000         NaN                  NaN   \n",
       "75%                  NaN   105.000000         NaN                  NaN   \n",
       "max                  NaN   251.000000         NaN                  NaN   \n",
       "\n",
       "            seasons    imdb_id   imdb_score    imdb_votes  tmdb_popularity  \\\n",
       "count   2047.000000       5362  5283.000000  5.267000e+03      5712.000000   \n",
       "unique          NaN       5362          NaN           NaN              NaN   \n",
       "top             NaN  tt9164986          NaN           NaN              NaN   \n",
       "freq            NaN          1          NaN           NaN              NaN   \n",
       "mean       2.165608        NaN     6.533447  2.340719e+04        22.525660   \n",
       "std        2.636207        NaN     1.160932  8.713432e+04        68.849177   \n",
       "min        1.000000        NaN     1.500000  5.000000e+00         0.009442   \n",
       "25%        1.000000        NaN     5.800000  5.210000e+02         3.155250   \n",
       "50%        1.000000        NaN     6.600000  2.279000e+03         7.478000   \n",
       "75%        2.000000        NaN     7.400000  1.014400e+04        17.775750   \n",
       "max       42.000000        NaN     9.600000  2.268288e+06      1823.374000   \n",
       "\n",
       "         tmdb_score  \n",
       "count   5488.000000  \n",
       "unique          NaN  \n",
       "top             NaN  \n",
       "freq            NaN  \n",
       "mean       6.818039  \n",
       "std        1.171560  \n",
       "min        0.500000  \n",
       "25%        6.100000  \n",
       "50%        6.900000  \n",
       "75%        7.500000  \n",
       "max       10.000000  "
      ]
     },
     "execution_count": 3,
     "metadata": {},
     "output_type": "execute_result"
    }
   ],
   "source": [
    "df_titles.describe(include='all')"
   ]
  },
  {
   "cell_type": "code",
   "execution_count": 4,
   "id": "7b37217d",
   "metadata": {
    "scrolled": true
   },
   "outputs": [
    {
     "name": "stdout",
     "output_type": "stream",
     "text": [
      "<class 'pandas.core.frame.DataFrame'>\n",
      "RangeIndex: 5806 entries, 0 to 5805\n",
      "Data columns (total 15 columns):\n",
      " #   Column                Non-Null Count  Dtype  \n",
      "---  ------                --------------  -----  \n",
      " 0   id                    5806 non-null   object \n",
      " 1   title                 5805 non-null   object \n",
      " 2   type                  5806 non-null   object \n",
      " 3   description           5788 non-null   object \n",
      " 4   release_year          5806 non-null   int64  \n",
      " 5   age_certification     3196 non-null   object \n",
      " 6   runtime               5806 non-null   int64  \n",
      " 7   genres                5806 non-null   object \n",
      " 8   production_countries  5806 non-null   object \n",
      " 9   seasons               2047 non-null   float64\n",
      " 10  imdb_id               5362 non-null   object \n",
      " 11  imdb_score            5283 non-null   float64\n",
      " 12  imdb_votes            5267 non-null   float64\n",
      " 13  tmdb_popularity       5712 non-null   float64\n",
      " 14  tmdb_score            5488 non-null   float64\n",
      "dtypes: float64(5), int64(2), object(8)\n",
      "memory usage: 680.5+ KB\n"
     ]
    }
   ],
   "source": [
    "df_titles.info()"
   ]
  },
  {
   "cell_type": "markdown",
   "id": "c6a5166c",
   "metadata": {},
   "source": [
    "## Data Cleaning Process\n",
    "\n",
    "1. drop rows without title\n",
    "2. unstack columns with multiple values, i.e. genres and production countries into multiple columns (alternatively, multiple rows)\n",
    "3. check each object column if it consists of meaningless values such as '', ', '...\n",
    "4. impute numerical columns, i.e. imdb_score, imdb_votes, tmdb_popularity, tmdb_score. \n",
    "5. check all columns if they are reasonable. \n",
    "6. drop unnecessary columns."
   ]
  },
  {
   "cell_type": "markdown",
   "id": "6598ecaf",
   "metadata": {},
   "source": [
    "**1. drop rows without title**"
   ]
  },
  {
   "cell_type": "code",
   "execution_count": 5,
   "id": "782f1220",
   "metadata": {},
   "outputs": [],
   "source": [
    "df_titles = df_titles.dropna(axis = 0, subset = ['title'])"
   ]
  },
  {
   "cell_type": "markdown",
   "id": "7af1da8a",
   "metadata": {},
   "source": [
    "**2. unstack columns with multiple values**"
   ]
  },
  {
   "cell_type": "code",
   "execution_count": 6,
   "id": "4f9206da",
   "metadata": {},
   "outputs": [
    {
     "data": {
      "text/plain": [
       "0       <class 'str'>\n",
       "1       <class 'str'>\n",
       "2       <class 'str'>\n",
       "3       <class 'str'>\n",
       "4       <class 'str'>\n",
       "            ...      \n",
       "5801    <class 'str'>\n",
       "5802    <class 'str'>\n",
       "5803    <class 'str'>\n",
       "5804    <class 'str'>\n",
       "5805    <class 'str'>\n",
       "Name: genres, Length: 5805, dtype: object"
      ]
     },
     "execution_count": 6,
     "metadata": {},
     "output_type": "execute_result"
    }
   ],
   "source": [
    "# check if the values in 'genres' and 'production_countries' are str or list\n",
    "\n",
    "df_titles['genres'].apply(type)"
   ]
  },
  {
   "cell_type": "code",
   "execution_count": 7,
   "id": "cc820d47",
   "metadata": {},
   "outputs": [
    {
     "data": {
      "text/plain": [
       "0       <class 'str'>\n",
       "1       <class 'str'>\n",
       "2       <class 'str'>\n",
       "3       <class 'str'>\n",
       "4       <class 'str'>\n",
       "            ...      \n",
       "5801    <class 'str'>\n",
       "5802    <class 'str'>\n",
       "5803    <class 'str'>\n",
       "5804    <class 'str'>\n",
       "5805    <class 'str'>\n",
       "Name: production_countries, Length: 5805, dtype: object"
      ]
     },
     "execution_count": 7,
     "metadata": {},
     "output_type": "execute_result"
    }
   ],
   "source": [
    "df_titles['production_countries'].apply(type)"
   ]
  },
  {
   "cell_type": "markdown",
   "id": "db3835b6",
   "metadata": {},
   "source": [
    "Convert them into list and strip '[ ]'"
   ]
  },
  {
   "cell_type": "code",
   "execution_count": 8,
   "id": "d6e016a7",
   "metadata": {},
   "outputs": [],
   "source": [
    "columns_to_convert = ['genres', 'production_countries']\n",
    "\n",
    "def str_to_list(df, col_to_convert):\n",
    "    \n",
    "    for i in col_to_convert:\n",
    "        df[i] = df[i].str.strip(\"[ ]\").str.split(',')\n",
    "    \n",
    "    \n",
    "str_to_list(df_titles, columns_to_convert)"
   ]
  },
  {
   "cell_type": "code",
   "execution_count": 9,
   "id": "4f7de6ed",
   "metadata": {},
   "outputs": [
    {
     "name": "stdout",
     "output_type": "stream",
     "text": [
      "0    <class 'list'>\n",
      "1    <class 'list'>\n",
      "2    <class 'list'>\n",
      "3    <class 'list'>\n",
      "4    <class 'list'>\n",
      "Name: genres, dtype: object\n",
      "0    <class 'list'>\n",
      "1    <class 'list'>\n",
      "2    <class 'list'>\n",
      "3    <class 'list'>\n",
      "4    <class 'list'>\n",
      "Name: production_countries, dtype: object\n"
     ]
    }
   ],
   "source": [
    "# check if str type has been changed to lists\n",
    "\n",
    "print(df_titles['genres'].apply(type)[0:5])\n",
    "print(df_titles['production_countries'].apply(type)[0:5]) "
   ]
  },
  {
   "cell_type": "code",
   "execution_count": 10,
   "id": "2b523c05",
   "metadata": {},
   "outputs": [
    {
     "data": {
      "text/html": [
       "<div>\n",
       "<style scoped>\n",
       "    .dataframe tbody tr th:only-of-type {\n",
       "        vertical-align: middle;\n",
       "    }\n",
       "\n",
       "    .dataframe tbody tr th {\n",
       "        vertical-align: top;\n",
       "    }\n",
       "\n",
       "    .dataframe thead th {\n",
       "        text-align: right;\n",
       "    }\n",
       "</style>\n",
       "<table border=\"1\" class=\"dataframe\">\n",
       "  <thead>\n",
       "    <tr style=\"text-align: right;\">\n",
       "      <th></th>\n",
       "      <th>genre1</th>\n",
       "      <th>genre2</th>\n",
       "    </tr>\n",
       "  </thead>\n",
       "  <tbody>\n",
       "    <tr>\n",
       "      <th>0</th>\n",
       "      <td>documentation</td>\n",
       "      <td>NaN</td>\n",
       "    </tr>\n",
       "    <tr>\n",
       "      <th>1</th>\n",
       "      <td>crime</td>\n",
       "      <td>drama</td>\n",
       "    </tr>\n",
       "    <tr>\n",
       "      <th>2</th>\n",
       "      <td>comedy</td>\n",
       "      <td>fantasy</td>\n",
       "    </tr>\n",
       "    <tr>\n",
       "      <th>3</th>\n",
       "      <td>comedy</td>\n",
       "      <td>NaN</td>\n",
       "    </tr>\n",
       "    <tr>\n",
       "      <th>4</th>\n",
       "      <td>horror</td>\n",
       "      <td>NaN</td>\n",
       "    </tr>\n",
       "    <tr>\n",
       "      <th>...</th>\n",
       "      <td>...</td>\n",
       "      <td>...</td>\n",
       "    </tr>\n",
       "    <tr>\n",
       "      <th>5801</th>\n",
       "      <td>romance</td>\n",
       "      <td>drama</td>\n",
       "    </tr>\n",
       "    <tr>\n",
       "      <th>5802</th>\n",
       "      <td>music</td>\n",
       "      <td>documentation</td>\n",
       "    </tr>\n",
       "    <tr>\n",
       "      <th>5803</th>\n",
       "      <td>family</td>\n",
       "      <td>drama</td>\n",
       "    </tr>\n",
       "    <tr>\n",
       "      <th>5804</th>\n",
       "      <td>action</td>\n",
       "      <td>thriller</td>\n",
       "    </tr>\n",
       "    <tr>\n",
       "      <th>5805</th>\n",
       "      <td>family</td>\n",
       "      <td>comedy</td>\n",
       "    </tr>\n",
       "  </tbody>\n",
       "</table>\n",
       "<p>5805 rows × 2 columns</p>\n",
       "</div>"
      ],
      "text/plain": [
       "             genre1         genre2\n",
       "0     documentation            NaN\n",
       "1             crime          drama\n",
       "2            comedy        fantasy\n",
       "3            comedy            NaN\n",
       "4            horror            NaN\n",
       "...             ...            ...\n",
       "5801        romance          drama\n",
       "5802          music  documentation\n",
       "5803         family          drama\n",
       "5804         action       thriller\n",
       "5805         family         comedy\n",
       "\n",
       "[5805 rows x 2 columns]"
      ]
     },
     "execution_count": 10,
     "metadata": {},
     "output_type": "execute_result"
    }
   ],
   "source": [
    "# unstack genres\n",
    "separated_genres =  df_titles['genres'].apply(pd.Series)\n",
    "separated_genres = separated_genres.loc[:, 0:1].rename(columns={0:'genre1', 1:'genre2'})\n",
    "separated_genres['genre1'] = separated_genres['genre1'].str.strip(\"' ''\")\n",
    "separated_genres['genre2'] = separated_genres['genre2'].str.strip(\"' ''\")\n",
    "\n",
    "\n",
    "# replace all empty value to nan\n",
    "separated_genres['genre1'] = separated_genres['genre1'].replace('', np.nan)\n",
    "separated_genres"
   ]
  },
  {
   "cell_type": "code",
   "execution_count": 11,
   "id": "c21fb8d6",
   "metadata": {},
   "outputs": [
    {
     "name": "stdout",
     "output_type": "stream",
     "text": [
      "<class 'pandas.core.frame.DataFrame'>\n",
      "Int64Index: 5805 entries, 0 to 5805\n",
      "Data columns (total 2 columns):\n",
      " #   Column  Non-Null Count  Dtype \n",
      "---  ------  --------------  ----- \n",
      " 0   genre1  5738 non-null   object\n",
      " 1   genre2  4197 non-null   object\n",
      "dtypes: object(2)\n",
      "memory usage: 136.1+ KB\n"
     ]
    }
   ],
   "source": [
    "separated_genres.info()"
   ]
  },
  {
   "cell_type": "code",
   "execution_count": 12,
   "id": "8c592ede",
   "metadata": {},
   "outputs": [
    {
     "data": {
      "text/html": [
       "<div>\n",
       "<style scoped>\n",
       "    .dataframe tbody tr th:only-of-type {\n",
       "        vertical-align: middle;\n",
       "    }\n",
       "\n",
       "    .dataframe tbody tr th {\n",
       "        vertical-align: top;\n",
       "    }\n",
       "\n",
       "    .dataframe thead th {\n",
       "        text-align: right;\n",
       "    }\n",
       "</style>\n",
       "<table border=\"1\" class=\"dataframe\">\n",
       "  <thead>\n",
       "    <tr style=\"text-align: right;\">\n",
       "      <th></th>\n",
       "      <th>country1</th>\n",
       "      <th>country2</th>\n",
       "    </tr>\n",
       "  </thead>\n",
       "  <tbody>\n",
       "    <tr>\n",
       "      <th>0</th>\n",
       "      <td>US</td>\n",
       "      <td>NaN</td>\n",
       "    </tr>\n",
       "    <tr>\n",
       "      <th>1</th>\n",
       "      <td>US</td>\n",
       "      <td>NaN</td>\n",
       "    </tr>\n",
       "    <tr>\n",
       "      <th>2</th>\n",
       "      <td>GB</td>\n",
       "      <td>NaN</td>\n",
       "    </tr>\n",
       "    <tr>\n",
       "      <th>3</th>\n",
       "      <td>GB</td>\n",
       "      <td>NaN</td>\n",
       "    </tr>\n",
       "    <tr>\n",
       "      <th>4</th>\n",
       "      <td>US</td>\n",
       "      <td>NaN</td>\n",
       "    </tr>\n",
       "    <tr>\n",
       "      <th>...</th>\n",
       "      <td>...</td>\n",
       "      <td>...</td>\n",
       "    </tr>\n",
       "    <tr>\n",
       "      <th>5801</th>\n",
       "      <td>NG</td>\n",
       "      <td>NaN</td>\n",
       "    </tr>\n",
       "    <tr>\n",
       "      <th>5802</th>\n",
       "      <td>NaN</td>\n",
       "      <td>NaN</td>\n",
       "    </tr>\n",
       "    <tr>\n",
       "      <th>5803</th>\n",
       "      <td>NG</td>\n",
       "      <td>CA</td>\n",
       "    </tr>\n",
       "    <tr>\n",
       "      <th>5804</th>\n",
       "      <td>NaN</td>\n",
       "      <td>NaN</td>\n",
       "    </tr>\n",
       "    <tr>\n",
       "      <th>5805</th>\n",
       "      <td>NaN</td>\n",
       "      <td>NaN</td>\n",
       "    </tr>\n",
       "  </tbody>\n",
       "</table>\n",
       "<p>5805 rows × 2 columns</p>\n",
       "</div>"
      ],
      "text/plain": [
       "     country1 country2\n",
       "0          US      NaN\n",
       "1          US      NaN\n",
       "2          GB      NaN\n",
       "3          GB      NaN\n",
       "4          US      NaN\n",
       "...       ...      ...\n",
       "5801       NG      NaN\n",
       "5802      NaN      NaN\n",
       "5803       NG       CA\n",
       "5804      NaN      NaN\n",
       "5805      NaN      NaN\n",
       "\n",
       "[5805 rows x 2 columns]"
      ]
     },
     "execution_count": 12,
     "metadata": {},
     "output_type": "execute_result"
    }
   ],
   "source": [
    "# unstack country\n",
    "separated_countries =  df_titles['production_countries'].apply(pd.Series)\n",
    "separated_countries = separated_countries.loc[:, 0:1].rename(columns={0:'country1', 1:'country2'})\n",
    "separated_countries['country1'] = separated_countries['country1'].str.strip(\"' ''\")\n",
    "separated_countries['country2'] = separated_countries['country2'].str.strip(\"' ''\")\n",
    "\n",
    "# replace all empty value to nan\n",
    "separated_countries['country1'] = separated_countries['country1'].replace('', np.nan)\n",
    "separated_countries"
   ]
  },
  {
   "cell_type": "code",
   "execution_count": 13,
   "id": "77949dea",
   "metadata": {},
   "outputs": [
    {
     "name": "stdout",
     "output_type": "stream",
     "text": [
      "<class 'pandas.core.frame.DataFrame'>\n",
      "Int64Index: 5805 entries, 0 to 5805\n",
      "Data columns (total 2 columns):\n",
      " #   Column    Non-Null Count  Dtype \n",
      "---  ------    --------------  ----- \n",
      " 0   country1  5574 non-null   object\n",
      " 1   country2  642 non-null    object\n",
      "dtypes: object(2)\n",
      "memory usage: 136.1+ KB\n"
     ]
    }
   ],
   "source": [
    "separated_countries.info() "
   ]
  },
  {
   "cell_type": "code",
   "execution_count": 14,
   "id": "9fbd0d0a",
   "metadata": {},
   "outputs": [],
   "source": [
    "# drop country2 due large amount of nan values\n",
    "separated_countries = separated_countries.drop('country2', axis=1)"
   ]
  },
  {
   "cell_type": "code",
   "execution_count": 15,
   "id": "d34e2735",
   "metadata": {},
   "outputs": [],
   "source": [
    "# fill nan in genre2 and separated_countries with '-'\n",
    "separated_genres = separated_genres.fillna('-')\n",
    "separated_countries = separated_countries.fillna('-')"
   ]
  },
  {
   "cell_type": "code",
   "execution_count": 16,
   "id": "147a10a3",
   "metadata": {},
   "outputs": [
    {
     "name": "stdout",
     "output_type": "stream",
     "text": [
      "<class 'pandas.core.frame.DataFrame'>\n",
      "Int64Index: 5805 entries, 0 to 5805\n",
      "Data columns (total 16 columns):\n",
      " #   Column             Non-Null Count  Dtype  \n",
      "---  ------             --------------  -----  \n",
      " 0   id                 5805 non-null   object \n",
      " 1   title              5805 non-null   object \n",
      " 2   type               5805 non-null   object \n",
      " 3   description        5788 non-null   object \n",
      " 4   release_year       5805 non-null   int64  \n",
      " 5   age_certification  3196 non-null   object \n",
      " 6   runtime            5805 non-null   int64  \n",
      " 7   seasons            2047 non-null   float64\n",
      " 8   imdb_id            5361 non-null   object \n",
      " 9   imdb_score         5283 non-null   float64\n",
      " 10  imdb_votes         5267 non-null   float64\n",
      " 11  tmdb_popularity    5712 non-null   float64\n",
      " 12  tmdb_score         5488 non-null   float64\n",
      " 13  genre1             5805 non-null   object \n",
      " 14  genre2             5805 non-null   object \n",
      " 15  country1           5805 non-null   object \n",
      "dtypes: float64(5), int64(2), object(9)\n",
      "memory usage: 900.0+ KB\n"
     ]
    }
   ],
   "source": [
    "# join to df_titles\n",
    "df_titles = df_titles.join([separated_genres, separated_countries])\n",
    "df_titles.drop(['genres', 'production_countries'], axis=1, inplace=True)\n",
    "\n",
    "df_titles.info()"
   ]
  },
  {
   "cell_type": "markdown",
   "id": "e83c8e7d",
   "metadata": {},
   "source": [
    " **3. clean object column if it consists of meaningless values such as '', ', '...**"
   ]
  },
  {
   "cell_type": "code",
   "execution_count": 17,
   "id": "b9f35cb2",
   "metadata": {},
   "outputs": [
    {
     "data": {
      "text/plain": [
       "['id',\n",
       " 'title',\n",
       " 'type',\n",
       " 'description',\n",
       " 'age_certification',\n",
       " 'imdb_id',\n",
       " 'genre1',\n",
       " 'genre2',\n",
       " 'country1']"
      ]
     },
     "execution_count": 17,
     "metadata": {},
     "output_type": "execute_result"
    }
   ],
   "source": [
    "# clean object column if it consists of meaningless values such as '', ', '...\n",
    "# get object columns \n",
    "\n",
    "obj_col = [i for i in df_titles.columns[df_titles.dtypes == 'object']]\n",
    "obj_col"
   ]
  },
  {
   "cell_type": "code",
   "execution_count": 18,
   "id": "9c2ca94d",
   "metadata": {},
   "outputs": [
    {
     "name": "stdout",
     "output_type": "stream",
     "text": [
      "Series([], Name: id, dtype: object)\n",
      "Series([], Name: title, dtype: object)\n",
      "Series([], Name: type, dtype: object)\n",
      "Series([], Name: description, dtype: object)\n",
      "Series([], Name: age_certification, dtype: object)\n",
      "Series([], Name: imdb_id, dtype: object)\n",
      "Series([], Name: genre1, dtype: object)\n",
      "Series([], Name: genre2, dtype: object)\n",
      "Series([], Name: country1, dtype: object)\n"
     ]
    }
   ],
   "source": [
    "# check if df_titles consist of meaningless values\n",
    "\n",
    "for i in obj_col:\n",
    "    _map = df_titles[i].isin(['',', ', ' '])\n",
    "    print(df_titles[i][_map])"
   ]
  },
  {
   "cell_type": "markdown",
   "id": "2e0f0d87",
   "metadata": {},
   "source": [
    "**4. impute numerical columns, i.e. imdb_score, imdb_votes, tmdb_popularity, tmdb_score.**"
   ]
  },
  {
   "cell_type": "code",
   "execution_count": 19,
   "id": "05120791",
   "metadata": {},
   "outputs": [
    {
     "data": {
      "image/png": "[encoded data removed]",
      "text/plain": [
       "<Figure size 1152x1152 with 4 Axes>"
      ]
     },
     "metadata": {
      "needs_background": "light"
     },
     "output_type": "display_data"
    }
   ],
   "source": [
    "# impute numerical columns, i.e. imdb_score, imdb_votes, tmdb_popularity, tmdb_score.\n",
    "impute_col = [ 'imdb_score', 'imdb_votes', 'tmdb_popularity', 'tmdb_score']\n",
    "\n",
    "# plot distribution for impute_col to determine the imputation value used ()\n",
    "fig, ax = plt.subplots(2,2, figsize=(16,16))\n",
    "ax = ax.flatten()\n",
    "\n",
    "subplot = 0\n",
    "for i in impute_col:\n",
    "    plt.show = sns.histplot(data=df_titles, x=i, ax=ax[subplot], bins=50)\n",
    "    subplot += 1"
   ]
  },
  {
   "cell_type": "code",
   "execution_count": 20,
   "id": "03c3a036",
   "metadata": {},
   "outputs": [],
   "source": [
    "# median is used due to the obvious skew in all columns\n",
    "\n",
    "imdb_score_median = df_titles['imdb_score'].median()\n",
    "imdb_votes_median = df_titles['imdb_votes'].median()\n",
    "tmdb_popularity_median = df_titles['tmdb_popularity'].median()\n",
    "tmdb_score_median = df_titles['tmdb_score'].median()"
   ]
  },
  {
   "cell_type": "code",
   "execution_count": 21,
   "id": "806de045",
   "metadata": {},
   "outputs": [],
   "source": [
    "# fillna\n",
    "\n",
    "df_titles['imdb_score'] = df_titles['imdb_score'].fillna(imdb_score_median)\n",
    "df_titles['imdb_votes'] = df_titles['imdb_votes'].fillna(imdb_votes_median )\n",
    "df_titles['tmdb_score'] = df_titles['tmdb_score'].fillna(tmdb_score_median )\n",
    "df_titles['tmdb_popularity'] = df_titles['tmdb_popularity'].fillna(tmdb_popularity_median )"
   ]
  },
  {
   "cell_type": "code",
   "execution_count": 22,
   "id": "7f300414",
   "metadata": {},
   "outputs": [
    {
     "name": "stdout",
     "output_type": "stream",
     "text": [
      "<class 'pandas.core.frame.DataFrame'>\n",
      "Int64Index: 5805 entries, 0 to 5805\n",
      "Data columns (total 16 columns):\n",
      " #   Column             Non-Null Count  Dtype  \n",
      "---  ------             --------------  -----  \n",
      " 0   id                 5805 non-null   object \n",
      " 1   title              5805 non-null   object \n",
      " 2   type               5805 non-null   object \n",
      " 3   description        5788 non-null   object \n",
      " 4   release_year       5805 non-null   int64  \n",
      " 5   age_certification  3196 non-null   object \n",
      " 6   runtime            5805 non-null   int64  \n",
      " 7   seasons            2047 non-null   float64\n",
      " 8   imdb_id            5361 non-null   object \n",
      " 9   imdb_score         5805 non-null   float64\n",
      " 10  imdb_votes         5805 non-null   float64\n",
      " 11  tmdb_popularity    5805 non-null   float64\n",
      " 12  tmdb_score         5805 non-null   float64\n",
      " 13  genre1             5805 non-null   object \n",
      " 14  genre2             5805 non-null   object \n",
      " 15  country1           5805 non-null   object \n",
      "dtypes: float64(5), int64(2), object(9)\n",
      "memory usage: 900.0+ KB\n"
     ]
    }
   ],
   "source": [
    "df_titles.info()"
   ]
  },
  {
   "cell_type": "markdown",
   "id": "1ccccefd",
   "metadata": {},
   "source": [
    "**5. check other columns**\n",
    "\n",
    "- type, description, release_year, age_certification, runtime, seasons"
   ]
  },
  {
   "cell_type": "markdown",
   "id": "eb6e8f2d",
   "metadata": {},
   "source": [
    "- type\n",
    "\n",
    "    - only movie and show\n",
    "    - no null values"
   ]
  },
  {
   "cell_type": "code",
   "execution_count": 23,
   "id": "ecfe9b37",
   "metadata": {},
   "outputs": [
    {
     "data": {
      "text/plain": [
       "{'MOVIE', 'SHOW'}"
      ]
     },
     "execution_count": 23,
     "metadata": {},
     "output_type": "execute_result"
    }
   ],
   "source": [
    "set(df_titles['type'])"
   ]
  },
  {
   "cell_type": "markdown",
   "id": "89d3c9da",
   "metadata": {},
   "source": [
    "- description\n",
    "\n",
    "    - not important, just leave the null values be "
   ]
  },
  {
   "cell_type": "markdown",
   "id": "7c9e657e",
   "metadata": {},
   "source": [
    "- release_year\n",
    "\n",
    "    - dtype= int, meaning no other meaningless values\n",
    "    - values are all reasonable "
   ]
  },
  {
   "cell_type": "code",
   "execution_count": 24,
   "id": "17e06a3d",
   "metadata": {},
   "outputs": [
    {
     "data": {
      "text/plain": [
       "{1945,\n",
       " 1953,\n",
       " 1954,\n",
       " 1956,\n",
       " 1958,\n",
       " 1959,\n",
       " 1960,\n",
       " 1961,\n",
       " 1962,\n",
       " 1963,\n",
       " 1964,\n",
       " 1966,\n",
       " 1967,\n",
       " 1968,\n",
       " 1969,\n",
       " 1971,\n",
       " 1972,\n",
       " 1973,\n",
       " 1974,\n",
       " 1975,\n",
       " 1976,\n",
       " 1977,\n",
       " 1978,\n",
       " 1979,\n",
       " 1980,\n",
       " 1981,\n",
       " 1982,\n",
       " 1983,\n",
       " 1984,\n",
       " 1985,\n",
       " 1986,\n",
       " 1987,\n",
       " 1988,\n",
       " 1989,\n",
       " 1990,\n",
       " 1991,\n",
       " 1992,\n",
       " 1993,\n",
       " 1994,\n",
       " 1995,\n",
       " 1996,\n",
       " 1997,\n",
       " 1998,\n",
       " 1999,\n",
       " 2000,\n",
       " 2001,\n",
       " 2002,\n",
       " 2003,\n",
       " 2004,\n",
       " 2005,\n",
       " 2006,\n",
       " 2007,\n",
       " 2008,\n",
       " 2009,\n",
       " 2010,\n",
       " 2011,\n",
       " 2012,\n",
       " 2013,\n",
       " 2014,\n",
       " 2015,\n",
       " 2016,\n",
       " 2017,\n",
       " 2018,\n",
       " 2019,\n",
       " 2020,\n",
       " 2021,\n",
       " 2022}"
      ]
     },
     "execution_count": 24,
     "metadata": {},
     "output_type": "execute_result"
    }
   ],
   "source": [
    "set(df_titles['release_year'])"
   ]
  },
  {
   "cell_type": "markdown",
   "id": "82f92c6c",
   "metadata": {},
   "source": [
    "- age_certification\n",
    "\n",
    "    - assign the most common ratings, 'G' or 'TV-G' for movies and shows"
   ]
  },
  {
   "cell_type": "code",
   "execution_count": 25,
   "id": "3b978d03",
   "metadata": {},
   "outputs": [
    {
     "data": {
      "text/plain": [
       "{'G',\n",
       " 'NC-17',\n",
       " 'PG',\n",
       " 'PG-13',\n",
       " 'R',\n",
       " 'TV-14',\n",
       " 'TV-G',\n",
       " 'TV-MA',\n",
       " 'TV-PG',\n",
       " 'TV-Y',\n",
       " 'TV-Y7',\n",
       " nan}"
      ]
     },
     "execution_count": 25,
     "metadata": {},
     "output_type": "execute_result"
    }
   ],
   "source": [
    "set(df_titles['age_certification'])"
   ]
  },
  {
   "cell_type": "code",
   "execution_count": 26,
   "id": "e9c75aa9",
   "metadata": {},
   "outputs": [],
   "source": [
    "# fillna for movies and shows in age_certification\n",
    "\n",
    "empty_movie_rating = df_titles[(df_titles['age_certification'].isnull() == True) & \n",
    "                                 (df_titles['type'] == 'MOVIE')]\n",
    "\n",
    "df_titles.loc[empty_movie_rating.index, 'age_certification'] = 'G' # assume 'G' rating as no one bother rating the movie"
   ]
  },
  {
   "cell_type": "code",
   "execution_count": 27,
   "id": "5c890338",
   "metadata": {},
   "outputs": [],
   "source": [
    "empty_show_rating = df_titles[(df_titles['age_certification'].isnull() == True) & \n",
    "                                 (df_titles['type'] == 'SHOW')]\n",
    "\n",
    "df_titles.loc[empty_show_rating.index, 'age_certification'] = 'TV-G' # assume 'TV-G' rating as no one bother rating the movie"
   ]
  },
  {
   "cell_type": "code",
   "execution_count": 28,
   "id": "e6f35a96",
   "metadata": {},
   "outputs": [
    {
     "data": {
      "text/plain": [
       "0"
      ]
     },
     "execution_count": 28,
     "metadata": {},
     "output_type": "execute_result"
    }
   ],
   "source": [
    "# check if there is still null values\n",
    "df_titles['age_certification'].isnull().sum()"
   ]
  },
  {
   "cell_type": "markdown",
   "id": "1893fbbc",
   "metadata": {},
   "source": [
    "- runtime"
   ]
  },
  {
   "cell_type": "code",
   "execution_count": 29,
   "id": "87c3299e",
   "metadata": {},
   "outputs": [
    {
     "data": {
      "text/plain": [
       "251"
      ]
     },
     "execution_count": 29,
     "metadata": {},
     "output_type": "execute_result"
    }
   ],
   "source": [
    "# find the longest runtime \n",
    "\n",
    "df_titles['runtime'].max() #251 minutes, an exhausting but still not incomprehensible length for movie"
   ]
  },
  {
   "cell_type": "markdown",
   "id": "f4a3553c",
   "metadata": {},
   "source": [
    "- seasons\n",
    "\n",
    "    - all seasons with null values are movies\n",
    "    - fill empty ones with 0"
   ]
  },
  {
   "cell_type": "code",
   "execution_count": 30,
   "id": "508002cc",
   "metadata": {},
   "outputs": [],
   "source": [
    "df_titles['seasons'] = df_titles['seasons'].fillna(0)"
   ]
  },
  {
   "cell_type": "markdown",
   "id": "a9f14dd1",
   "metadata": {},
   "source": [
    "**6. drop unnecessary rows and columns**"
   ]
  },
  {
   "cell_type": "code",
   "execution_count": 31,
   "id": "905867cc",
   "metadata": {},
   "outputs": [
    {
     "name": "stdout",
     "output_type": "stream",
     "text": [
      "<class 'pandas.core.frame.DataFrame'>\n",
      "Int64Index: 5805 entries, 0 to 5805\n",
      "Data columns (total 16 columns):\n",
      " #   Column             Non-Null Count  Dtype  \n",
      "---  ------             --------------  -----  \n",
      " 0   id                 5805 non-null   object \n",
      " 1   title              5805 non-null   object \n",
      " 2   type               5805 non-null   object \n",
      " 3   description        5788 non-null   object \n",
      " 4   release_year       5805 non-null   int64  \n",
      " 5   age_certification  5805 non-null   object \n",
      " 6   runtime            5805 non-null   int64  \n",
      " 7   seasons            5805 non-null   float64\n",
      " 8   imdb_id            5361 non-null   object \n",
      " 9   imdb_score         5805 non-null   float64\n",
      " 10  imdb_votes         5805 non-null   float64\n",
      " 11  tmdb_popularity    5805 non-null   float64\n",
      " 12  tmdb_score         5805 non-null   float64\n",
      " 13  genre1             5805 non-null   object \n",
      " 14  genre2             5805 non-null   object \n",
      " 15  country1           5805 non-null   object \n",
      "dtypes: float64(5), int64(2), object(9)\n",
      "memory usage: 900.0+ KB\n"
     ]
    }
   ],
   "source": [
    "#check df_titles info\n",
    "df_titles.info()"
   ]
  },
  {
   "cell_type": "code",
   "execution_count": 32,
   "id": "deac21d6",
   "metadata": {},
   "outputs": [
    {
     "name": "stdout",
     "output_type": "stream",
     "text": [
      "<class 'pandas.core.frame.DataFrame'>\n",
      "Int64Index: 5533 entries, 0 to 5803\n",
      "Data columns (total 16 columns):\n",
      " #   Column             Non-Null Count  Dtype  \n",
      "---  ------             --------------  -----  \n",
      " 0   id                 5533 non-null   object \n",
      " 1   title              5533 non-null   object \n",
      " 2   type               5533 non-null   object \n",
      " 3   description        5526 non-null   object \n",
      " 4   release_year       5533 non-null   int64  \n",
      " 5   age_certification  5533 non-null   object \n",
      " 6   runtime            5533 non-null   int64  \n",
      " 7   seasons            5533 non-null   float64\n",
      " 8   imdb_id            5167 non-null   object \n",
      " 9   imdb_score         5533 non-null   float64\n",
      " 10  imdb_votes         5533 non-null   float64\n",
      " 11  tmdb_popularity    5533 non-null   float64\n",
      " 12  tmdb_score         5533 non-null   float64\n",
      " 13  genre1             5533 non-null   object \n",
      " 14  genre2             5533 non-null   object \n",
      " 15  country1           5533 non-null   object \n",
      "dtypes: float64(5), int64(2), object(9)\n",
      "memory usage: 734.9+ KB\n"
     ]
    }
   ],
   "source": [
    "#Drop rows of genre1 and country1 with '-'\n",
    "df_titles = df_titles[df_titles['genre1'] != '-']\n",
    "df_titles = df_titles[df_titles['country1'] != '-']\n",
    "df_titles.info()"
   ]
  },
  {
   "cell_type": "code",
   "execution_count": 33,
   "id": "ce394896",
   "metadata": {},
   "outputs": [
    {
     "name": "stdout",
     "output_type": "stream",
     "text": [
      "<class 'pandas.core.frame.DataFrame'>\n",
      "Int64Index: 5533 entries, 0 to 5803\n",
      "Data columns (total 14 columns):\n",
      " #   Column             Non-Null Count  Dtype  \n",
      "---  ------             --------------  -----  \n",
      " 0   id                 5533 non-null   object \n",
      " 1   title              5533 non-null   object \n",
      " 2   type               5533 non-null   object \n",
      " 3   release_year       5533 non-null   int64  \n",
      " 4   age_certification  5533 non-null   object \n",
      " 5   runtime            5533 non-null   int64  \n",
      " 6   seasons            5533 non-null   float64\n",
      " 7   imdb_score         5533 non-null   float64\n",
      " 8   imdb_votes         5533 non-null   float64\n",
      " 9   tmdb_popularity    5533 non-null   float64\n",
      " 10  tmdb_score         5533 non-null   float64\n",
      " 11  genre1             5533 non-null   object \n",
      " 12  genre2             5533 non-null   object \n",
      " 13  country1           5533 non-null   object \n",
      "dtypes: float64(5), int64(2), object(7)\n",
      "memory usage: 648.4+ KB\n",
      "<class 'pandas.core.frame.DataFrame'>\n",
      "Int64Index: 5533 entries, 0 to 5803\n",
      "Data columns (total 14 columns):\n",
      " #   Column             Non-Null Count  Dtype  \n",
      "---  ------             --------------  -----  \n",
      " 0   id                 5533 non-null   object \n",
      " 1   title              5533 non-null   object \n",
      " 2   type               5533 non-null   object \n",
      " 3   release_year       5533 non-null   int64  \n",
      " 4   age_certification  5533 non-null   object \n",
      " 5   runtime            5533 non-null   int64  \n",
      " 6   seasons            5533 non-null   float64\n",
      " 7   imdb_score         5533 non-null   float64\n",
      " 8   imdb_votes         5533 non-null   float64\n",
      " 9   tmdb_popularity    5533 non-null   float64\n",
      " 10  tmdb_score         5533 non-null   float64\n",
      " 11  genre1             5533 non-null   object \n",
      " 12  genre2             5533 non-null   object \n",
      " 13  country1           5533 non-null   object \n",
      "dtypes: float64(5), int64(2), object(7)\n",
      "memory usage: 648.4+ KB\n"
     ]
    }
   ],
   "source": [
    "# drop description and imdb_id\n",
    "df_titles = df_titles.drop(['description','imdb_id'], axis=1)\n",
    "df_titles.info()\n",
    "\n",
    "ct = df_titles.copy()\n",
    "ct.info()"
   ]
  },
  {
   "cell_type": "code",
   "execution_count": 34,
   "id": "4ba92944",
   "metadata": {},
   "outputs": [
    {
     "name": "stdout",
     "output_type": "stream",
     "text": [
      "<class 'pandas.core.frame.DataFrame'>\n",
      "Int64Index: 5533 entries, 0 to 5803\n",
      "Data columns (total 14 columns):\n",
      " #   Column             Non-Null Count  Dtype  \n",
      "---  ------             --------------  -----  \n",
      " 0   id                 5533 non-null   object \n",
      " 1   title              5533 non-null   object \n",
      " 2   type               5533 non-null   object \n",
      " 3   release_year       5533 non-null   int64  \n",
      " 4   age_certification  5533 non-null   object \n",
      " 5   runtime            5533 non-null   int64  \n",
      " 6   seasons            5533 non-null   float64\n",
      " 7   imdb_score         5533 non-null   float64\n",
      " 8   imdb_votes         5533 non-null   float64\n",
      " 9   tmdb_popularity    5533 non-null   float64\n",
      " 10  tmdb_score         5533 non-null   float64\n",
      " 11  genre1             5533 non-null   object \n",
      " 12  genre2             5533 non-null   object \n",
      " 13  country1           5533 non-null   object \n",
      "dtypes: float64(5), int64(2), object(7)\n",
      "memory usage: 648.4+ KB\n"
     ]
    }
   ],
   "source": [
    "ct = df_titles.copy()\n",
    "ct.info()"
   ]
  },
  {
   "cell_type": "markdown",
   "id": "485681bd",
   "metadata": {},
   "source": [
    "## Feature Extraction"
   ]
  },
  {
   "cell_type": "markdown",
   "id": "15e8d51a",
   "metadata": {},
   "source": [
    "Select the features for EDA and analysis for machine learning later"
   ]
  },
  {
   "cell_type": "code",
   "execution_count": 35,
   "id": "c17e81ed",
   "metadata": {},
   "outputs": [],
   "source": [
    "# drop title which will not be used for analysis\n",
    "df_titles = df_titles.drop(['title'], axis=1)"
   ]
  },
  {
   "cell_type": "code",
   "execution_count": 36,
   "id": "989fca07",
   "metadata": {},
   "outputs": [],
   "source": [
    "# drop genre2 with high number of missing value\n",
    "df_titles = df_titles.drop(['genre2'], axis=1)"
   ]
  },
  {
   "cell_type": "code",
   "execution_count": 37,
   "id": "9ca32c1e",
   "metadata": {},
   "outputs": [
    {
     "data": {
      "text/html": [
       "<div>\n",
       "<style scoped>\n",
       "    .dataframe tbody tr th:only-of-type {\n",
       "        vertical-align: middle;\n",
       "    }\n",
       "\n",
       "    .dataframe tbody tr th {\n",
       "        vertical-align: top;\n",
       "    }\n",
       "\n",
       "    .dataframe thead th {\n",
       "        text-align: right;\n",
       "    }\n",
       "</style>\n",
       "<table border=\"1\" class=\"dataframe\">\n",
       "  <thead>\n",
       "    <tr style=\"text-align: right;\">\n",
       "      <th></th>\n",
       "      <th>id</th>\n",
       "      <th>type</th>\n",
       "      <th>release_year</th>\n",
       "      <th>age_certification</th>\n",
       "      <th>runtime</th>\n",
       "      <th>seasons</th>\n",
       "      <th>imdb_score</th>\n",
       "      <th>imdb_votes</th>\n",
       "      <th>tmdb_popularity</th>\n",
       "      <th>tmdb_score</th>\n",
       "      <th>genre1</th>\n",
       "      <th>country1</th>\n",
       "    </tr>\n",
       "  </thead>\n",
       "  <tbody>\n",
       "    <tr>\n",
       "      <th>0</th>\n",
       "      <td>ts300399</td>\n",
       "      <td>SHOW</td>\n",
       "      <td>1945</td>\n",
       "      <td>TV-MA</td>\n",
       "      <td>48</td>\n",
       "      <td>1.0</td>\n",
       "      <td>6.6</td>\n",
       "      <td>2279.0</td>\n",
       "      <td>0.600</td>\n",
       "      <td>6.9</td>\n",
       "      <td>documentation</td>\n",
       "      <td>US</td>\n",
       "    </tr>\n",
       "    <tr>\n",
       "      <th>1</th>\n",
       "      <td>tm84618</td>\n",
       "      <td>MOVIE</td>\n",
       "      <td>1976</td>\n",
       "      <td>R</td>\n",
       "      <td>113</td>\n",
       "      <td>0.0</td>\n",
       "      <td>8.3</td>\n",
       "      <td>795222.0</td>\n",
       "      <td>27.612</td>\n",
       "      <td>8.2</td>\n",
       "      <td>crime</td>\n",
       "      <td>US</td>\n",
       "    </tr>\n",
       "    <tr>\n",
       "      <th>2</th>\n",
       "      <td>tm127384</td>\n",
       "      <td>MOVIE</td>\n",
       "      <td>1975</td>\n",
       "      <td>PG</td>\n",
       "      <td>91</td>\n",
       "      <td>0.0</td>\n",
       "      <td>8.2</td>\n",
       "      <td>530877.0</td>\n",
       "      <td>18.216</td>\n",
       "      <td>7.8</td>\n",
       "      <td>comedy</td>\n",
       "      <td>GB</td>\n",
       "    </tr>\n",
       "    <tr>\n",
       "      <th>3</th>\n",
       "      <td>tm70993</td>\n",
       "      <td>MOVIE</td>\n",
       "      <td>1979</td>\n",
       "      <td>R</td>\n",
       "      <td>94</td>\n",
       "      <td>0.0</td>\n",
       "      <td>8.0</td>\n",
       "      <td>392419.0</td>\n",
       "      <td>17.505</td>\n",
       "      <td>7.8</td>\n",
       "      <td>comedy</td>\n",
       "      <td>GB</td>\n",
       "    </tr>\n",
       "    <tr>\n",
       "      <th>4</th>\n",
       "      <td>tm190788</td>\n",
       "      <td>MOVIE</td>\n",
       "      <td>1973</td>\n",
       "      <td>R</td>\n",
       "      <td>133</td>\n",
       "      <td>0.0</td>\n",
       "      <td>8.1</td>\n",
       "      <td>391942.0</td>\n",
       "      <td>95.337</td>\n",
       "      <td>7.7</td>\n",
       "      <td>horror</td>\n",
       "      <td>US</td>\n",
       "    </tr>\n",
       "    <tr>\n",
       "      <th>...</th>\n",
       "      <td>...</td>\n",
       "      <td>...</td>\n",
       "      <td>...</td>\n",
       "      <td>...</td>\n",
       "      <td>...</td>\n",
       "      <td>...</td>\n",
       "      <td>...</td>\n",
       "      <td>...</td>\n",
       "      <td>...</td>\n",
       "      <td>...</td>\n",
       "      <td>...</td>\n",
       "      <td>...</td>\n",
       "    </tr>\n",
       "    <tr>\n",
       "      <th>5798</th>\n",
       "      <td>tm1004011</td>\n",
       "      <td>MOVIE</td>\n",
       "      <td>2021</td>\n",
       "      <td>G</td>\n",
       "      <td>107</td>\n",
       "      <td>0.0</td>\n",
       "      <td>2.2</td>\n",
       "      <td>950.0</td>\n",
       "      <td>2.911</td>\n",
       "      <td>4.0</td>\n",
       "      <td>drama</td>\n",
       "      <td>IN</td>\n",
       "    </tr>\n",
       "    <tr>\n",
       "      <th>5799</th>\n",
       "      <td>ts307884</td>\n",
       "      <td>SHOW</td>\n",
       "      <td>2021</td>\n",
       "      <td>TV-14</td>\n",
       "      <td>24</td>\n",
       "      <td>1.0</td>\n",
       "      <td>6.6</td>\n",
       "      <td>2279.0</td>\n",
       "      <td>0.600</td>\n",
       "      <td>6.9</td>\n",
       "      <td>comedy</td>\n",
       "      <td>NG</td>\n",
       "    </tr>\n",
       "    <tr>\n",
       "      <th>5800</th>\n",
       "      <td>tm1040816</td>\n",
       "      <td>MOVIE</td>\n",
       "      <td>2021</td>\n",
       "      <td>G</td>\n",
       "      <td>108</td>\n",
       "      <td>0.0</td>\n",
       "      <td>5.8</td>\n",
       "      <td>26.0</td>\n",
       "      <td>4.112</td>\n",
       "      <td>6.9</td>\n",
       "      <td>comedy</td>\n",
       "      <td>PH</td>\n",
       "    </tr>\n",
       "    <tr>\n",
       "      <th>5801</th>\n",
       "      <td>tm1014599</td>\n",
       "      <td>MOVIE</td>\n",
       "      <td>2021</td>\n",
       "      <td>G</td>\n",
       "      <td>100</td>\n",
       "      <td>0.0</td>\n",
       "      <td>6.9</td>\n",
       "      <td>39.0</td>\n",
       "      <td>0.966</td>\n",
       "      <td>6.9</td>\n",
       "      <td>romance</td>\n",
       "      <td>NG</td>\n",
       "    </tr>\n",
       "    <tr>\n",
       "      <th>5803</th>\n",
       "      <td>tm1045018</td>\n",
       "      <td>MOVIE</td>\n",
       "      <td>2021</td>\n",
       "      <td>G</td>\n",
       "      <td>88</td>\n",
       "      <td>0.0</td>\n",
       "      <td>6.5</td>\n",
       "      <td>32.0</td>\n",
       "      <td>0.709</td>\n",
       "      <td>6.9</td>\n",
       "      <td>family</td>\n",
       "      <td>NG</td>\n",
       "    </tr>\n",
       "  </tbody>\n",
       "</table>\n",
       "<p>5533 rows × 12 columns</p>\n",
       "</div>"
      ],
      "text/plain": [
       "             id   type  release_year age_certification  runtime  seasons  \\\n",
       "0      ts300399   SHOW          1945             TV-MA       48      1.0   \n",
       "1       tm84618  MOVIE          1976                 R      113      0.0   \n",
       "2      tm127384  MOVIE          1975                PG       91      0.0   \n",
       "3       tm70993  MOVIE          1979                 R       94      0.0   \n",
       "4      tm190788  MOVIE          1973                 R      133      0.0   \n",
       "...         ...    ...           ...               ...      ...      ...   \n",
       "5798  tm1004011  MOVIE          2021                 G      107      0.0   \n",
       "5799   ts307884   SHOW          2021             TV-14       24      1.0   \n",
       "5800  tm1040816  MOVIE          2021                 G      108      0.0   \n",
       "5801  tm1014599  MOVIE          2021                 G      100      0.0   \n",
       "5803  tm1045018  MOVIE          2021                 G       88      0.0   \n",
       "\n",
       "      imdb_score  imdb_votes  tmdb_popularity  tmdb_score         genre1  \\\n",
       "0            6.6      2279.0            0.600         6.9  documentation   \n",
       "1            8.3    795222.0           27.612         8.2          crime   \n",
       "2            8.2    530877.0           18.216         7.8         comedy   \n",
       "3            8.0    392419.0           17.505         7.8         comedy   \n",
       "4            8.1    391942.0           95.337         7.7         horror   \n",
       "...          ...         ...              ...         ...            ...   \n",
       "5798         2.2       950.0            2.911         4.0          drama   \n",
       "5799         6.6      2279.0            0.600         6.9         comedy   \n",
       "5800         5.8        26.0            4.112         6.9         comedy   \n",
       "5801         6.9        39.0            0.966         6.9        romance   \n",
       "5803         6.5        32.0            0.709         6.9         family   \n",
       "\n",
       "     country1  \n",
       "0          US  \n",
       "1          US  \n",
       "2          GB  \n",
       "3          GB  \n",
       "4          US  \n",
       "...       ...  \n",
       "5798       IN  \n",
       "5799       NG  \n",
       "5800       PH  \n",
       "5801       NG  \n",
       "5803       NG  \n",
       "\n",
       "[5533 rows x 12 columns]"
      ]
     },
     "execution_count": 37,
     "metadata": {},
     "output_type": "execute_result"
    }
   ],
   "source": [
    "# view and checkup\n",
    "df_titles"
   ]
  },
  {
   "cell_type": "markdown",
   "id": "29d6aacb",
   "metadata": {},
   "source": [
    "# Data Aggregation and Visualization Analysis"
   ]
  },
  {
   "cell_type": "markdown",
   "id": "39944a09",
   "metadata": {},
   "source": [
    "## Correlation"
   ]
  },
  {
   "cell_type": "code",
   "execution_count": 38,
   "id": "50823ae1",
   "metadata": {},
   "outputs": [
    {
     "data": {
      "text/plain": [
       "<AxesSubplot:>"
      ]
     },
     "execution_count": 38,
     "metadata": {},
     "output_type": "execute_result"
    },
    {
     "data": {
      "image/png": "[encoded data removed]",
      "text/plain": [
       "<Figure size 1080x1080 with 2 Axes>"
      ]
     },
     "metadata": {
      "needs_background": "light"
     },
     "output_type": "display_data"
    }
   ],
   "source": [
    "#correlation matrix\n",
    "plt.figure(figsize=(15,15))  \n",
    "sns.heatmap(ct.corr(),annot=True, cmap='jet', center=0)"
   ]
  },
  {
   "cell_type": "markdown",
   "id": "76375fc4",
   "metadata": {},
   "source": [
    "## Research Questions Analysis"
   ]
  },
  {
   "cell_type": "markdown",
   "id": "91fffca4",
   "metadata": {},
   "source": [
    "evaluation metrics used in the analysis are from both imdb and tmdb. They can be used to measure review rating and popularity of content. \n",
    "<br>\n",
    "\n",
    "**popularity**:\n",
    "- `imdb_votes`: number of voters who rate a show or movie, range from 0 to unlimited\n",
    "- `tmdb_popularity`: measure overall popularity of content on a particular day with multiple variables, range from 0 to unlimited\n",
    "<br>\n",
    "\n",
    "**review rating**:\n",
    "- `imdb_score`: rating of content on the scale of 1.0 to 10.0 on imdb database\n",
    "- `tmdb_score`: rating of content on the scale of 1.0 to 10.0 on tmdb database"
   ]
  },
  {
   "cell_type": "markdown",
   "id": "d506eab4",
   "metadata": {},
   "source": [
    "### Do clients like movie or show?\n",
    "Which is more popular and which should we invest more in?"
   ]
  },
  {
   "cell_type": "markdown",
   "id": "93e8b48c",
   "metadata": {},
   "source": [
    "As movies and shows have different budget, production work flow and storytelling, it is important for Netflix to gauge which type of content is better catered towards its clients liking to distribute its budget invested on each type. "
   ]
  },
  {
   "cell_type": "markdown",
   "id": "07efc181",
   "metadata": {},
   "source": [
    "#### Popularity analysis for type of content"
   ]
  },
  {
   "cell_type": "code",
   "execution_count": 39,
   "id": "40ac46db",
   "metadata": {},
   "outputs": [
    {
     "data": {
      "text/html": [
       "<div>\n",
       "<style scoped>\n",
       "    .dataframe tbody tr th:only-of-type {\n",
       "        vertical-align: middle;\n",
       "    }\n",
       "\n",
       "    .dataframe tbody tr th {\n",
       "        vertical-align: top;\n",
       "    }\n",
       "\n",
       "    .dataframe thead th {\n",
       "        text-align: right;\n",
       "    }\n",
       "</style>\n",
       "<table border=\"1\" class=\"dataframe\">\n",
       "  <thead>\n",
       "    <tr style=\"text-align: right;\">\n",
       "      <th></th>\n",
       "      <th>count</th>\n",
       "      <th>imdb_votes_median</th>\n",
       "      <th>tmdb_popularity_median</th>\n",
       "    </tr>\n",
       "    <tr>\n",
       "      <th>type</th>\n",
       "      <th></th>\n",
       "      <th></th>\n",
       "      <th></th>\n",
       "    </tr>\n",
       "  </thead>\n",
       "  <tbody>\n",
       "    <tr>\n",
       "      <th>MOVIE</th>\n",
       "      <td>3588</td>\n",
       "      <td>2279.0</td>\n",
       "      <td>6.861</td>\n",
       "    </tr>\n",
       "    <tr>\n",
       "      <th>SHOW</th>\n",
       "      <td>1945</td>\n",
       "      <td>2278.0</td>\n",
       "      <td>10.563</td>\n",
       "    </tr>\n",
       "  </tbody>\n",
       "</table>\n",
       "</div>"
      ],
      "text/plain": [
       "       count  imdb_votes_median  tmdb_popularity_median\n",
       "type                                                   \n",
       "MOVIE   3588             2279.0                   6.861\n",
       "SHOW    1945             2278.0                  10.563"
      ]
     },
     "execution_count": 39,
     "metadata": {},
     "output_type": "execute_result"
    }
   ],
   "source": [
    "# gauge popularity of each type of content by finding median for popularity metrics\n",
    "type_popularity = ct.groupby('type')[['id', 'imdb_votes', 'tmdb_popularity']].agg({'id':'count', \n",
    "                                                            'imdb_votes': 'median', \n",
    "                                                            'tmdb_popularity':'median'})\n",
    "\n",
    "# rename columns to clearly indicate the values \n",
    "type_popularity = type_popularity.rename(columns={'id':'count',\n",
    "                                                  'imdb_votes':'imdb_votes_median',\n",
    "                                                  'tmdb_popularity':'tmdb_popularity_median'})\n",
    "\n",
    "type_popularity"
   ]
  },
  {
   "cell_type": "code",
   "execution_count": 40,
   "id": "233327b9",
   "metadata": {
    "scrolled": true
   },
   "outputs": [
    {
     "data": {
      "image/png": "[encoded data removed]",
      "text/plain": [
       "<Figure size 1296x576 with 2 Axes>"
      ]
     },
     "metadata": {
      "needs_background": "light"
     },
     "output_type": "display_data"
    }
   ],
   "source": [
    "fig, ax = plt.subplots(1,2, figsize=(18,8))\n",
    "\n",
    "ax[0].bar(type_popularity.index, type_popularity['imdb_votes_median'])\n",
    "ax[0].set_title(\"The imdb_votes_median for Movies and Shows\", fontsize=16)\n",
    "ax[0].set_xlabel(\"type\")\n",
    "ax[0].set_ylabel(\"imdb_votes_median\")\n",
    "\n",
    "ax[1].bar(type_popularity.index, type_popularity['tmdb_popularity_median'], color = '#ff7a00')\n",
    "ax[1].set_title(\"The tmdb_popularity_median for Movies and Shows\", fontsize=16)\n",
    "ax[1].set_xlabel(\"type\")\n",
    "ax[1].set_ylabel(\"tmdb_popularity_median\")\n",
    "\n",
    "plt.tight_layout()"
   ]
  },
  {
   "cell_type": "markdown",
   "id": "71a85d3d",
   "metadata": {},
   "source": [
    "`imdb_votes_median` for movies and shows are 2279 and 2278 respectively. <br>\n",
    "`tmdb_popularity_median` for movies and shows are 6.613 and 9.714 respectively. \n",
    "\n",
    "While imdb_votes show similar results, shows have a significantly higher tmdb_popularity median. <br>\n",
    "It shows that shows in Netflix database do better in popularity than movies. "
   ]
  },
  {
   "cell_type": "markdown",
   "id": "ee9ef43b",
   "metadata": {},
   "source": [
    "#### Review rating analysis for type of content"
   ]
  },
  {
   "cell_type": "code",
   "execution_count": 41,
   "id": "822f2c2c",
   "metadata": {},
   "outputs": [
    {
     "data": {
      "text/html": [
       "<div>\n",
       "<style scoped>\n",
       "    .dataframe tbody tr th:only-of-type {\n",
       "        vertical-align: middle;\n",
       "    }\n",
       "\n",
       "    .dataframe tbody tr th {\n",
       "        vertical-align: top;\n",
       "    }\n",
       "\n",
       "    .dataframe thead th {\n",
       "        text-align: right;\n",
       "    }\n",
       "</style>\n",
       "<table border=\"1\" class=\"dataframe\">\n",
       "  <thead>\n",
       "    <tr style=\"text-align: right;\">\n",
       "      <th></th>\n",
       "      <th>count</th>\n",
       "      <th>imdb_score_median</th>\n",
       "      <th>tmdb_score_median</th>\n",
       "    </tr>\n",
       "    <tr>\n",
       "      <th>type</th>\n",
       "      <th></th>\n",
       "      <th></th>\n",
       "      <th></th>\n",
       "    </tr>\n",
       "  </thead>\n",
       "  <tbody>\n",
       "    <tr>\n",
       "      <th>MOVIE</th>\n",
       "      <td>3588</td>\n",
       "      <td>6.5</td>\n",
       "      <td>6.5</td>\n",
       "    </tr>\n",
       "    <tr>\n",
       "      <th>SHOW</th>\n",
       "      <td>1945</td>\n",
       "      <td>7.1</td>\n",
       "      <td>7.5</td>\n",
       "    </tr>\n",
       "  </tbody>\n",
       "</table>\n",
       "</div>"
      ],
      "text/plain": [
       "       count  imdb_score_median  tmdb_score_median\n",
       "type                                              \n",
       "MOVIE   3588                6.5                6.5\n",
       "SHOW    1945                7.1                7.5"
      ]
     },
     "execution_count": 41,
     "metadata": {},
     "output_type": "execute_result"
    }
   ],
   "source": [
    "# gauge popularity of each type of content by finding median for popularity metrics\n",
    "type_score = ct.groupby('type')[['id', 'imdb_score', 'tmdb_score']].agg({'id':'count', \n",
    "                                                                         'imdb_score': 'median', \n",
    "                                                                         'tmdb_score':'median'})\n",
    "\n",
    "# rename columns to clearly indicate the values \n",
    "type_score = type_score.rename(columns={'id':'count',\n",
    "                                                  'imdb_score':'imdb_score_median',\n",
    "                                                  'tmdb_score':'tmdb_score_median'})\n",
    "\n",
    "type_score"
   ]
  },
  {
   "cell_type": "code",
   "execution_count": 42,
   "id": "c26835d0",
   "metadata": {},
   "outputs": [
    {
     "data": {
      "image/png": "[encoded data removed]",
      "text/plain": [
       "<Figure size 1296x576 with 2 Axes>"
      ]
     },
     "metadata": {
      "needs_background": "light"
     },
     "output_type": "display_data"
    }
   ],
   "source": [
    "fig, ax = plt.subplots(1,2, figsize=(18,8))\n",
    "\n",
    "ax[0].bar(type_score.index, type_score['imdb_score_median'])\n",
    "ax[0].set_title(\"The imdb_score_median for Movies and Shows\", fontsize=16)\n",
    "ax[0].set_xlabel(\"type\")\n",
    "ax[0].set_ylabel(\"imdb_score_median\")\n",
    "\n",
    "ax[1].bar(type_score.index, type_score['tmdb_score_median'], color = '#ff7a00')\n",
    "ax[1].set_title(\"The tmdb_score_median for Movies and Shows\", fontsize=16)\n",
    "ax[1].set_xlabel(\"type\")\n",
    "ax[1].set_ylabel(\"tmdb_score_median\")\n",
    "\n",
    "plt.tight_layout()"
   ]
  },
  {
   "cell_type": "markdown",
   "id": "cbb7a895",
   "metadata": {},
   "source": [
    "`imdb_score_median` for movies and shows are 6.5 and 7.1 respectively. <br>\n",
    "`tmdb_score_median` for movies and shows are 6.5 and 7.5 respectively. \n",
    "\n",
    "Meanwhile, review rating of Netflix clients favor TV-shows over movies in both database. It is an indication that shows Netflix users have a preference towards TV shows over movies. \n",
    "<br>\n",
    "\n",
    "As Netflix has significantly fewer shows than movies in its database, there is a potential that it can invest more in acquiring and producing quality TV shows. "
   ]
  },
  {
   "cell_type": "markdown",
   "id": "46d2c9e7",
   "metadata": {},
   "source": [
    "### How do TV series do in general? \n",
    "How do multiple season series (seasons > 1) do in general? "
   ]
  },
  {
   "cell_type": "markdown",
   "id": "a17d5606",
   "metadata": {},
   "source": [
    "**Considerations**:\n",
    "1. extract shows where seasons > 1 and seasons < 10 (shows that have more than 10 seasons are outliers and should not be included in generic analysis).\n",
    "2. Both popularity and rating reviews are studied. "
   ]
  },
  {
   "cell_type": "code",
   "execution_count": 43,
   "id": "27d09a8d",
   "metadata": {},
   "outputs": [],
   "source": [
    "# extract shows where seasons >1 and <10 \n",
    "series = ct.loc[(ct['seasons']>1) & (ct['seasons']<10), :]"
   ]
  },
  {
   "cell_type": "markdown",
   "id": "b95f4d19",
   "metadata": {},
   "source": [
    "#### Popularity analysis of series"
   ]
  },
  {
   "cell_type": "code",
   "execution_count": 44,
   "id": "0c7e0068",
   "metadata": {
    "scrolled": true
   },
   "outputs": [
    {
     "data": {
      "text/html": [
       "<div>\n",
       "<style scoped>\n",
       "    .dataframe tbody tr th:only-of-type {\n",
       "        vertical-align: middle;\n",
       "    }\n",
       "\n",
       "    .dataframe tbody tr th {\n",
       "        vertical-align: top;\n",
       "    }\n",
       "\n",
       "    .dataframe thead th {\n",
       "        text-align: right;\n",
       "    }\n",
       "</style>\n",
       "<table border=\"1\" class=\"dataframe\">\n",
       "  <thead>\n",
       "    <tr style=\"text-align: right;\">\n",
       "      <th></th>\n",
       "      <th>count</th>\n",
       "      <th>imdb_votes_median</th>\n",
       "      <th>tmdb_popularity_median</th>\n",
       "    </tr>\n",
       "    <tr>\n",
       "      <th>seasons</th>\n",
       "      <th></th>\n",
       "      <th></th>\n",
       "      <th></th>\n",
       "    </tr>\n",
       "  </thead>\n",
       "  <tbody>\n",
       "    <tr>\n",
       "      <th>2.0</th>\n",
       "      <td>361</td>\n",
       "      <td>2127.0</td>\n",
       "      <td>11.6970</td>\n",
       "    </tr>\n",
       "    <tr>\n",
       "      <th>3.0</th>\n",
       "      <td>178</td>\n",
       "      <td>4053.5</td>\n",
       "      <td>18.6830</td>\n",
       "    </tr>\n",
       "    <tr>\n",
       "      <th>4.0</th>\n",
       "      <td>112</td>\n",
       "      <td>5138.0</td>\n",
       "      <td>21.8255</td>\n",
       "    </tr>\n",
       "    <tr>\n",
       "      <th>5.0</th>\n",
       "      <td>76</td>\n",
       "      <td>5435.0</td>\n",
       "      <td>26.2085</td>\n",
       "    </tr>\n",
       "    <tr>\n",
       "      <th>6.0</th>\n",
       "      <td>39</td>\n",
       "      <td>14892.0</td>\n",
       "      <td>38.0160</td>\n",
       "    </tr>\n",
       "    <tr>\n",
       "      <th>7.0</th>\n",
       "      <td>16</td>\n",
       "      <td>18032.0</td>\n",
       "      <td>34.2870</td>\n",
       "    </tr>\n",
       "    <tr>\n",
       "      <th>8.0</th>\n",
       "      <td>13</td>\n",
       "      <td>6700.0</td>\n",
       "      <td>31.2710</td>\n",
       "    </tr>\n",
       "    <tr>\n",
       "      <th>9.0</th>\n",
       "      <td>9</td>\n",
       "      <td>15823.0</td>\n",
       "      <td>34.9340</td>\n",
       "    </tr>\n",
       "  </tbody>\n",
       "</table>\n",
       "</div>"
      ],
      "text/plain": [
       "         count  imdb_votes_median  tmdb_popularity_median\n",
       "seasons                                                  \n",
       "2.0        361             2127.0                 11.6970\n",
       "3.0        178             4053.5                 18.6830\n",
       "4.0        112             5138.0                 21.8255\n",
       "5.0         76             5435.0                 26.2085\n",
       "6.0         39            14892.0                 38.0160\n",
       "7.0         16            18032.0                 34.2870\n",
       "8.0         13             6700.0                 31.2710\n",
       "9.0          9            15823.0                 34.9340"
      ]
     },
     "execution_count": 44,
     "metadata": {},
     "output_type": "execute_result"
    }
   ],
   "source": [
    "s_pop = series.groupby('seasons')[['id','imdb_votes', 'tmdb_popularity']].agg({'id':'count', \n",
    "                                                            'imdb_votes': 'median', \n",
    "                                                            'tmdb_popularity':'median'}).sort_values(['seasons']).rename(columns={'id':'count',\n",
    "                                                            'imdb_votes':'imdb_votes_median', 'tmdb_popularity':'tmdb_popularity_median'})\n",
    "\n",
    "s_pop"
   ]
  },
  {
   "cell_type": "code",
   "execution_count": 45,
   "id": "62d6b9b4",
   "metadata": {},
   "outputs": [
    {
     "data": {
      "image/png": "[encoded data removed]",
      "text/plain": [
       "<Figure size 1152x576 with 2 Axes>"
      ]
     },
     "metadata": {
      "needs_background": "light"
     },
     "output_type": "display_data"
    }
   ],
   "source": [
    "fig, ax = plt.subplots(1,1, figsize=(16,8))\n",
    "\n",
    "ax.plot(s_pop.index, s_pop['imdb_votes_median'])\n",
    "ax.set_title(\"The Median of imdb_votes and tmdb_popularity for Different Seasons of Shows\", fontsize=14)\n",
    "ax.set_xlabel(\"season\")\n",
    "ax.set_ylabel(\"imdb_pop_median\")\n",
    "\n",
    "\n",
    "ax2 = ax.twinx()\n",
    "ax2.plot(s_pop.index, s_pop['tmdb_popularity_median'], color='#ffc552')\n",
    "ax2.set_ylabel(\"tmdb_popularity_median\")\n",
    "\n",
    "\n",
    "plt.show = fig.legend(['imdb_votes_median','tmdb_popularity_median'], bbox_to_anchor=[1.05,0.85])"
   ]
  },
  {
   "cell_type": "markdown",
   "id": "36ac80c6",
   "metadata": {},
   "source": [
    "As the number of season increases, the popularity of show increases among both imdg and tmdb users. However, this effect cannot be extrapolate indefinitely as the popularity peaks at around season 6 or season 7. "
   ]
  },
  {
   "cell_type": "markdown",
   "id": "304bac36",
   "metadata": {},
   "source": [
    "#### Review rating analysis of series"
   ]
  },
  {
   "cell_type": "code",
   "execution_count": 46,
   "id": "2a46e3be",
   "metadata": {},
   "outputs": [
    {
     "data": {
      "text/html": [
       "<div>\n",
       "<style scoped>\n",
       "    .dataframe tbody tr th:only-of-type {\n",
       "        vertical-align: middle;\n",
       "    }\n",
       "\n",
       "    .dataframe tbody tr th {\n",
       "        vertical-align: top;\n",
       "    }\n",
       "\n",
       "    .dataframe thead th {\n",
       "        text-align: right;\n",
       "    }\n",
       "</style>\n",
       "<table border=\"1\" class=\"dataframe\">\n",
       "  <thead>\n",
       "    <tr style=\"text-align: right;\">\n",
       "      <th></th>\n",
       "      <th>count</th>\n",
       "      <th>imdb_score_median</th>\n",
       "      <th>tmdb_score_median</th>\n",
       "    </tr>\n",
       "    <tr>\n",
       "      <th>seasons</th>\n",
       "      <th></th>\n",
       "      <th></th>\n",
       "      <th></th>\n",
       "    </tr>\n",
       "  </thead>\n",
       "  <tbody>\n",
       "    <tr>\n",
       "      <th>2.0</th>\n",
       "      <td>361</td>\n",
       "      <td>7.10</td>\n",
       "      <td>7.50</td>\n",
       "    </tr>\n",
       "    <tr>\n",
       "      <th>3.0</th>\n",
       "      <td>178</td>\n",
       "      <td>7.40</td>\n",
       "      <td>7.60</td>\n",
       "    </tr>\n",
       "    <tr>\n",
       "      <th>4.0</th>\n",
       "      <td>112</td>\n",
       "      <td>7.30</td>\n",
       "      <td>7.70</td>\n",
       "    </tr>\n",
       "    <tr>\n",
       "      <th>5.0</th>\n",
       "      <td>76</td>\n",
       "      <td>7.50</td>\n",
       "      <td>7.70</td>\n",
       "    </tr>\n",
       "    <tr>\n",
       "      <th>6.0</th>\n",
       "      <td>39</td>\n",
       "      <td>7.80</td>\n",
       "      <td>7.80</td>\n",
       "    </tr>\n",
       "    <tr>\n",
       "      <th>7.0</th>\n",
       "      <td>16</td>\n",
       "      <td>7.75</td>\n",
       "      <td>7.45</td>\n",
       "    </tr>\n",
       "    <tr>\n",
       "      <th>8.0</th>\n",
       "      <td>13</td>\n",
       "      <td>7.50</td>\n",
       "      <td>7.80</td>\n",
       "    </tr>\n",
       "    <tr>\n",
       "      <th>9.0</th>\n",
       "      <td>9</td>\n",
       "      <td>8.00</td>\n",
       "      <td>8.30</td>\n",
       "    </tr>\n",
       "  </tbody>\n",
       "</table>\n",
       "</div>"
      ],
      "text/plain": [
       "         count  imdb_score_median  tmdb_score_median\n",
       "seasons                                             \n",
       "2.0        361               7.10               7.50\n",
       "3.0        178               7.40               7.60\n",
       "4.0        112               7.30               7.70\n",
       "5.0         76               7.50               7.70\n",
       "6.0         39               7.80               7.80\n",
       "7.0         16               7.75               7.45\n",
       "8.0         13               7.50               7.80\n",
       "9.0          9               8.00               8.30"
      ]
     },
     "execution_count": 46,
     "metadata": {},
     "output_type": "execute_result"
    }
   ],
   "source": [
    "s_score = series.groupby('seasons')[['id','imdb_score', 'tmdb_score']].agg({'id':'count', \n",
    "                                                            'imdb_score': 'median', \n",
    "                                                            'tmdb_score':'median'}).sort_values(['seasons']).rename(columns={'id':'count',\n",
    "                                                            'imdb_score':'imdb_score_median', 'tmdb_score':'tmdb_score_median'})\n",
    "\n",
    "s_score"
   ]
  },
  {
   "cell_type": "code",
   "execution_count": 47,
   "id": "de2fe22a",
   "metadata": {},
   "outputs": [
    {
     "data": {
      "image/png": "[encoded data removed]",
      "text/plain": [
       "<Figure size 1152x576 with 2 Axes>"
      ]
     },
     "metadata": {
      "needs_background": "light"
     },
     "output_type": "display_data"
    }
   ],
   "source": [
    "fig, ax = plt.subplots(1,1, figsize=(16,8))\n",
    "\n",
    "ax.plot(s_score.index, s_score['imdb_score_median'])\n",
    "ax.set_title(\"The IMDB and TMDB Median Score for Different Seasons of Shows\", fontsize=14)\n",
    "ax.set_xlabel(\"season\")\n",
    "ax.set_ylabel(\"imdb_score_median\")\n",
    "ax.set_ylim(0,10)\n",
    "\n",
    "ax2 = ax.twinx()\n",
    "ax2.plot(s_score.index, s_score['tmdb_score_median'], color='#ffc552')\n",
    "ax2.set_ylabel(\"tmdb_score_median\")\n",
    "ax2.set_ylim(0,10)\n",
    "\n",
    "plt.show = fig.legend(['imdb_score_median','tmdb_score_median'], bbox_to_anchor=[1.05,0.85])"
   ]
  },
  {
   "cell_type": "markdown",
   "id": "bc2b0408",
   "metadata": {},
   "source": [
    "As the scores of shows remain relatively constant across seasons, it is safe to say that the number of seasons do not affect a show's review rating. "
   ]
  },
  {
   "cell_type": "markdown",
   "id": "8db98d78",
   "metadata": {},
   "source": [
    "### Which genres are the clients favourite?\n",
    "For the most popular shows in the past 5 years, which genres are they from?\n"
   ]
  },
  {
   "cell_type": "markdown",
   "id": "c927bfb6",
   "metadata": {},
   "source": [
    "Genres are important template that storytelling base upon. Thus, it is essential to analyze genres of content to understand audience preferences. \n",
    "<br>\n",
    "\n",
    "**Considerations**:\n",
    "1. Different production countries have widely different styles and content of story telling, `country1` is included in this analysis.\n",
    "2. Due to the fluidity of audience preferences, the genres analysis is limited to content released less than 5 years ago. \n",
    "3. As a show can span across many themes and genres, the combination of main genres: `genre1` and `genre2` are analysed. \n",
    "4. As genres are strongly correlated with popularity but not review rating, so only popularity is studied for this question. "
   ]
  },
  {
   "cell_type": "code",
   "execution_count": 48,
   "id": "dd2c1d31",
   "metadata": {},
   "outputs": [],
   "source": [
    "# extract shows from 2018 to 2022\n",
    "shows = ct.loc[(ct['type'] == 'SHOW') & (ct['release_year']>=2018), :].sort_values(by='imdb_votes', ascending=False)\n",
    "movies = ct.loc[(ct['type'] == 'MOVIE') & (ct['release_year']>=2018), :].sort_values(by='imdb_votes', ascending=False)"
   ]
  },
  {
   "cell_type": "markdown",
   "id": "f580dc94",
   "metadata": {},
   "source": [
    "#### The 10 most popular genres for shows"
   ]
  },
  {
   "cell_type": "code",
   "execution_count": 49,
   "id": "03cf0fca",
   "metadata": {},
   "outputs": [
    {
     "data": {
      "text/html": [
       "<div>\n",
       "<style scoped>\n",
       "    .dataframe tbody tr th:only-of-type {\n",
       "        vertical-align: middle;\n",
       "    }\n",
       "\n",
       "    .dataframe tbody tr th {\n",
       "        vertical-align: top;\n",
       "    }\n",
       "\n",
       "    .dataframe thead th {\n",
       "        text-align: right;\n",
       "    }\n",
       "</style>\n",
       "<table border=\"1\" class=\"dataframe\">\n",
       "  <thead>\n",
       "    <tr style=\"text-align: right;\">\n",
       "      <th></th>\n",
       "      <th></th>\n",
       "      <th></th>\n",
       "      <th>count</th>\n",
       "      <th>imdb_votes_median</th>\n",
       "    </tr>\n",
       "    <tr>\n",
       "      <th>country1</th>\n",
       "      <th>genre1</th>\n",
       "      <th>genre2</th>\n",
       "      <th></th>\n",
       "      <th></th>\n",
       "    </tr>\n",
       "  </thead>\n",
       "  <tbody>\n",
       "    <tr>\n",
       "      <th>KR</th>\n",
       "      <th>action</th>\n",
       "      <th>drama</th>\n",
       "      <td>1</td>\n",
       "      <td>416738.0</td>\n",
       "    </tr>\n",
       "    <tr>\n",
       "      <th>GB</th>\n",
       "      <th>comedy</th>\n",
       "      <th>drama</th>\n",
       "      <td>1</td>\n",
       "      <td>124972.0</td>\n",
       "    </tr>\n",
       "    <tr>\n",
       "      <th>US</th>\n",
       "      <th>thriller</th>\n",
       "      <th>crime</th>\n",
       "      <td>2</td>\n",
       "      <td>115523.5</td>\n",
       "    </tr>\n",
       "    <tr>\n",
       "      <th>GB</th>\n",
       "      <th>war</th>\n",
       "      <th>crime</th>\n",
       "      <td>1</td>\n",
       "      <td>114446.0</td>\n",
       "    </tr>\n",
       "    <tr>\n",
       "      <th>JP</th>\n",
       "      <th>animation</th>\n",
       "      <th>scifi</th>\n",
       "      <td>1</td>\n",
       "      <td>88265.0</td>\n",
       "    </tr>\n",
       "    <tr>\n",
       "      <th>IN</th>\n",
       "      <th>action</th>\n",
       "      <th>thriller</th>\n",
       "      <td>1</td>\n",
       "      <td>85088.0</td>\n",
       "    </tr>\n",
       "    <tr>\n",
       "      <th rowspan=\"2\" valign=\"top\">US</th>\n",
       "      <th>drama</th>\n",
       "      <th>crime</th>\n",
       "      <td>4</td>\n",
       "      <td>77006.0</td>\n",
       "    </tr>\n",
       "    <tr>\n",
       "      <th>scifi</th>\n",
       "      <th>thriller</th>\n",
       "      <td>7</td>\n",
       "      <td>72031.0</td>\n",
       "    </tr>\n",
       "    <tr>\n",
       "      <th>FR</th>\n",
       "      <th>crime</th>\n",
       "      <th>drama</th>\n",
       "      <td>2</td>\n",
       "      <td>51741.5</td>\n",
       "    </tr>\n",
       "    <tr>\n",
       "      <th>AU</th>\n",
       "      <th>thriller</th>\n",
       "      <th>crime</th>\n",
       "      <td>1</td>\n",
       "      <td>50140.0</td>\n",
       "    </tr>\n",
       "  </tbody>\n",
       "</table>\n",
       "</div>"
      ],
      "text/plain": [
       "                             count  imdb_votes_median\n",
       "country1 genre1    genre2                            \n",
       "KR       action    drama         1           416738.0\n",
       "GB       comedy    drama         1           124972.0\n",
       "US       thriller  crime         2           115523.5\n",
       "GB       war       crime         1           114446.0\n",
       "JP       animation scifi         1            88265.0\n",
       "IN       action    thriller      1            85088.0\n",
       "US       drama     crime         4            77006.0\n",
       "         scifi     thriller      7            72031.0\n",
       "FR       crime     drama         2            51741.5\n",
       "AU       thriller  crime         1            50140.0"
      ]
     },
     "execution_count": 49,
     "metadata": {},
     "output_type": "execute_result"
    }
   ],
   "source": [
    "# gauge popularity of each type of content by finding median for popularity metrics\n",
    "# for imdb_votes\n",
    "show_imdb_votes = shows.groupby(['country1','genre1', 'genre2'])[['id','imdb_votes']].agg({'id':'count', 'imdb_votes':'median'})\\\n",
    ".sort_values(by='imdb_votes', ascending=False)\n",
    "\n",
    "# rename columns \n",
    "show_imdb_votes = show_imdb_votes.rename(columns={'id': 'count', 'imdb_votes':'imdb_votes_median'})\n",
    "\n",
    "# view genres where median imdb_votes > 10000 (around 5x median)\n",
    "imdb_pop10 = show_imdb_votes.head(10)\n",
    "imdb_pop10"
   ]
  },
  {
   "cell_type": "code",
   "execution_count": 50,
   "id": "9175b74f",
   "metadata": {},
   "outputs": [
    {
     "data": {
      "text/html": [
       "<div>\n",
       "<style scoped>\n",
       "    .dataframe tbody tr th:only-of-type {\n",
       "        vertical-align: middle;\n",
       "    }\n",
       "\n",
       "    .dataframe tbody tr th {\n",
       "        vertical-align: top;\n",
       "    }\n",
       "\n",
       "    .dataframe thead th {\n",
       "        text-align: right;\n",
       "    }\n",
       "</style>\n",
       "<table border=\"1\" class=\"dataframe\">\n",
       "  <thead>\n",
       "    <tr style=\"text-align: right;\">\n",
       "      <th></th>\n",
       "      <th></th>\n",
       "      <th></th>\n",
       "      <th>count</th>\n",
       "      <th>tmdb_popularity_median</th>\n",
       "    </tr>\n",
       "    <tr>\n",
       "      <th>country1</th>\n",
       "      <th>genre1</th>\n",
       "      <th>genre2</th>\n",
       "      <th></th>\n",
       "      <th></th>\n",
       "    </tr>\n",
       "  </thead>\n",
       "  <tbody>\n",
       "    <tr>\n",
       "      <th>CO</th>\n",
       "      <th>thriller</th>\n",
       "      <th>drama</th>\n",
       "      <td>1</td>\n",
       "      <td>1455.085</td>\n",
       "    </tr>\n",
       "    <tr>\n",
       "      <th>GB</th>\n",
       "      <th>drama</th>\n",
       "      <th>romance</th>\n",
       "      <td>1</td>\n",
       "      <td>926.362</td>\n",
       "    </tr>\n",
       "    <tr>\n",
       "      <th>US</th>\n",
       "      <th>war</th>\n",
       "      <th>action</th>\n",
       "      <td>1</td>\n",
       "      <td>504.811</td>\n",
       "    </tr>\n",
       "    <tr>\n",
       "      <th>ES</th>\n",
       "      <th>scifi</th>\n",
       "      <th>comedy</th>\n",
       "      <td>1</td>\n",
       "      <td>456.283</td>\n",
       "    </tr>\n",
       "    <tr>\n",
       "      <th>KR</th>\n",
       "      <th>action</th>\n",
       "      <th>scifi</th>\n",
       "      <td>2</td>\n",
       "      <td>347.901</td>\n",
       "    </tr>\n",
       "    <tr>\n",
       "      <th>JP</th>\n",
       "      <th>thriller</th>\n",
       "      <th>animation</th>\n",
       "      <td>1</td>\n",
       "      <td>323.144</td>\n",
       "    </tr>\n",
       "    <tr>\n",
       "      <th rowspan=\"2\" valign=\"top\">CO</th>\n",
       "      <th rowspan=\"2\" valign=\"top\">drama</th>\n",
       "      <th>music</th>\n",
       "      <td>1</td>\n",
       "      <td>312.625</td>\n",
       "    </tr>\n",
       "    <tr>\n",
       "      <th>family</th>\n",
       "      <td>1</td>\n",
       "      <td>279.875</td>\n",
       "    </tr>\n",
       "    <tr>\n",
       "      <th rowspan=\"2\" valign=\"top\">KR</th>\n",
       "      <th>action</th>\n",
       "      <th>drama</th>\n",
       "      <td>1</td>\n",
       "      <td>272.707</td>\n",
       "    </tr>\n",
       "    <tr>\n",
       "      <th>scifi</th>\n",
       "      <th>horror</th>\n",
       "      <td>1</td>\n",
       "      <td>218.433</td>\n",
       "    </tr>\n",
       "  </tbody>\n",
       "</table>\n",
       "</div>"
      ],
      "text/plain": [
       "                             count  tmdb_popularity_median\n",
       "country1 genre1   genre2                                  \n",
       "CO       thriller drama          1                1455.085\n",
       "GB       drama    romance        1                 926.362\n",
       "US       war      action         1                 504.811\n",
       "ES       scifi    comedy         1                 456.283\n",
       "KR       action   scifi          2                 347.901\n",
       "JP       thriller animation      1                 323.144\n",
       "CO       drama    music          1                 312.625\n",
       "                  family         1                 279.875\n",
       "KR       action   drama          1                 272.707\n",
       "         scifi    horror         1                 218.433"
      ]
     },
     "execution_count": 50,
     "metadata": {},
     "output_type": "execute_result"
    }
   ],
   "source": [
    "# for tmdb_popularity\n",
    "show_tmdb_popularity = shows.groupby(['country1','genre1', 'genre2'])[['id','tmdb_popularity']].agg({'id':'count', 'tmdb_popularity':'median'})\\\n",
    ".sort_values(by='tmdb_popularity', ascending=False)\n",
    "\n",
    "show_tmdb_popularity = show_tmdb_popularity.rename(columns={'id': 'count','tmdb_popularity':'tmdb_popularity_median'})\n",
    "\n",
    "# view genres where median tmdb_popularity > 50 (more than 5x median)\n",
    "tmdb_pop10 = show_tmdb_popularity.head(10)\n",
    "tmdb_pop10"
   ]
  },
  {
   "cell_type": "code",
   "execution_count": 51,
   "id": "beefa079",
   "metadata": {},
   "outputs": [],
   "source": [
    "# trasform data\n",
    "tmdb_pop10x = tmdb_pop10.reset_index()\n",
    "tmdb_pop10x['genre'] = tmdb_pop10x['genre1'] + ', ' + tmdb_pop10x['genre2']\n",
    "tmdb_pop10x = tmdb_pop10x.drop(['genre1','genre2'], axis=1)\n",
    "\n",
    "imdb_pop10x = imdb_pop10.reset_index()\n",
    "imdb_pop10x['genre'] = imdb_pop10x['genre1'] + ', ' + imdb_pop10x['genre2']\n",
    "imdb_pop10x = imdb_pop10x.drop(['genre1','genre2'], axis=1)"
   ]
  },
  {
   "cell_type": "code",
   "execution_count": 52,
   "id": "51644fd8",
   "metadata": {},
   "outputs": [
    {
     "data": {
      "image/png": "[encoded data removed]",
      "text/plain": [
       "<Figure size 1296x1296 with 2 Axes>"
      ]
     },
     "metadata": {
      "needs_background": "light"
     },
     "output_type": "display_data"
    }
   ],
   "source": [
    "# set plot color palette\n",
    "palette ={\"KR\": \"#9372b2\", \n",
    "          \"JP\": \"#c03d3e\", \n",
    "          \"GB\": \"#a8a8a8\", \n",
    "          \"US\": \"#68889b\",\n",
    "          \"IN\": \"#e1812c\",\n",
    "          \"FR\": \"#a9917b\",\n",
    "          \"AU\": \"#a5c1a2\",\n",
    "          \"CO\": \"#727570\",\n",
    "          \"ES\": \"#ffc552\"}\n",
    "\n",
    "# plot imdb_votes\n",
    "fig, (ax1, ax2) = plt.subplots(2,1, figsize=(18,18))\n",
    "plt.show = sns.barplot( data=imdb_pop10x, hue='country1', x='imdb_votes_median', y='genre', orient='h', dodge=False, ax=ax1, palette = palette)\n",
    "\n",
    "plt.show = ax1.set_title(\"Top 10 Show Genres, Production Countries and Their imdb_votes_median\", fontsize=16)\n",
    "plt.show = ax1.legend(bbox_to_anchor=[1.01,0.758])\n",
    "\n",
    "# plot tmdb_popularity\n",
    "plt.show = sns.barplot( data=tmdb_pop10x, hue='country1', x='tmdb_popularity_median', y='genre', orient='h', dodge=False, ax=ax2, palette = palette)\n",
    "\n",
    "plt.show = ax2.set_title(\"Top 10 Show Genres, Production Countries and Their tmdb_popularity_median\", fontsize=16)\n",
    "plt.show = ax2.legend(bbox_to_anchor=[1.07,0.758])\n"
   ]
  },
  {
   "cell_type": "markdown",
   "id": "c7fb9747",
   "metadata": {},
   "source": [
    "While both imdb and tmdb show two sets of vividly different preferences, show genres from **US, Korea, Japan, Great Britain** are always on the top 10. \n",
    "<br>\n",
    "<br>\n",
    "\n",
    "Popular genre categories of shows produced by each of these countries:\n",
    "- **US**: thriller, crime, drame, action, scifi and war\n",
    "- **Korea**: action, drama, scifi, horror\n",
    "- **Japan**: animation, scifi, thriller\n",
    "- **Great Britain**: comedy, drama, war, crime, romance"
   ]
  },
  {
   "cell_type": "markdown",
   "id": "7f7f61d0",
   "metadata": {},
   "source": [
    "#### The 10 most popular genres for movies"
   ]
  },
  {
   "cell_type": "code",
   "execution_count": 53,
   "id": "5ff430a5",
   "metadata": {
    "scrolled": true
   },
   "outputs": [
    {
     "data": {
      "text/html": [
       "<div>\n",
       "<style scoped>\n",
       "    .dataframe tbody tr th:only-of-type {\n",
       "        vertical-align: middle;\n",
       "    }\n",
       "\n",
       "    .dataframe tbody tr th {\n",
       "        vertical-align: top;\n",
       "    }\n",
       "\n",
       "    .dataframe thead th {\n",
       "        text-align: right;\n",
       "    }\n",
       "</style>\n",
       "<table border=\"1\" class=\"dataframe\">\n",
       "  <thead>\n",
       "    <tr style=\"text-align: right;\">\n",
       "      <th></th>\n",
       "      <th></th>\n",
       "      <th></th>\n",
       "      <th>id</th>\n",
       "      <th>imdb_votes_median</th>\n",
       "    </tr>\n",
       "    <tr>\n",
       "      <th>country1</th>\n",
       "      <th>genre1</th>\n",
       "      <th>genre2</th>\n",
       "      <th></th>\n",
       "      <th></th>\n",
       "    </tr>\n",
       "  </thead>\n",
       "  <tbody>\n",
       "    <tr>\n",
       "      <th>US</th>\n",
       "      <th>drama</th>\n",
       "      <th>crime</th>\n",
       "      <td>1</td>\n",
       "      <td>371209.0</td>\n",
       "    </tr>\n",
       "    <tr>\n",
       "      <th>GB</th>\n",
       "      <th>drama</th>\n",
       "      <th>romance</th>\n",
       "      <td>1</td>\n",
       "      <td>290643.0</td>\n",
       "    </tr>\n",
       "    <tr>\n",
       "      <th rowspan=\"2\" valign=\"top\">US</th>\n",
       "      <th>scifi</th>\n",
       "      <th>drama</th>\n",
       "      <td>2</td>\n",
       "      <td>270527.5</td>\n",
       "    </tr>\n",
       "    <tr>\n",
       "      <th>comedy</th>\n",
       "      <th>crime</th>\n",
       "      <td>3</td>\n",
       "      <td>255356.0</td>\n",
       "    </tr>\n",
       "    <tr>\n",
       "      <th>ES</th>\n",
       "      <th>horror</th>\n",
       "      <th>scifi</th>\n",
       "      <td>1</td>\n",
       "      <td>207877.0</td>\n",
       "    </tr>\n",
       "    <tr>\n",
       "      <th>US</th>\n",
       "      <th>action</th>\n",
       "      <th>thriller</th>\n",
       "      <td>1</td>\n",
       "      <td>168919.0</td>\n",
       "    </tr>\n",
       "    <tr>\n",
       "      <th>MX</th>\n",
       "      <th>drama</th>\n",
       "      <th>european</th>\n",
       "      <td>1</td>\n",
       "      <td>153508.0</td>\n",
       "    </tr>\n",
       "    <tr>\n",
       "      <th>US</th>\n",
       "      <th>western</th>\n",
       "      <th>comedy</th>\n",
       "      <td>1</td>\n",
       "      <td>141528.0</td>\n",
       "    </tr>\n",
       "    <tr>\n",
       "      <th>AU</th>\n",
       "      <th>drama</th>\n",
       "      <th>history</th>\n",
       "      <td>1</td>\n",
       "      <td>119020.0</td>\n",
       "    </tr>\n",
       "    <tr>\n",
       "      <th>DE</th>\n",
       "      <th>drama</th>\n",
       "      <th>crime</th>\n",
       "      <td>1</td>\n",
       "      <td>101975.0</td>\n",
       "    </tr>\n",
       "  </tbody>\n",
       "</table>\n",
       "</div>"
      ],
      "text/plain": [
       "                           id  imdb_votes_median\n",
       "country1 genre1  genre2                         \n",
       "US       drama   crime      1           371209.0\n",
       "GB       drama   romance    1           290643.0\n",
       "US       scifi   drama      2           270527.5\n",
       "         comedy  crime      3           255356.0\n",
       "ES       horror  scifi      1           207877.0\n",
       "US       action  thriller   1           168919.0\n",
       "MX       drama   european   1           153508.0\n",
       "US       western comedy     1           141528.0\n",
       "AU       drama   history    1           119020.0\n",
       "DE       drama   crime      1           101975.0"
      ]
     },
     "execution_count": 53,
     "metadata": {},
     "output_type": "execute_result"
    }
   ],
   "source": [
    "# gauge popularity of each type of content by finding median for popularity metrics\n",
    "# for imdb_votes\n",
    "movie_imdb_votes = movies.groupby(['country1','genre1', 'genre2'])[['id','imdb_votes']].agg({'id':'count', 'imdb_votes':'median'})\\\n",
    ".sort_values(by='imdb_votes', ascending=False)\n",
    "\n",
    "# rename columns \n",
    "movie_imdb_votes = movie_imdb_votes.rename(columns={'imdb_votes':'imdb_votes_median'})\n",
    "\n",
    "# view genres where median imdb_votes > 10000 (around 5x median)\n",
    "imdb_pop10m = movie_imdb_votes.head(10)\n",
    "imdb_pop10m"
   ]
  },
  {
   "cell_type": "code",
   "execution_count": 54,
   "id": "628dfb84",
   "metadata": {
    "scrolled": true
   },
   "outputs": [
    {
     "data": {
      "text/html": [
       "<div>\n",
       "<style scoped>\n",
       "    .dataframe tbody tr th:only-of-type {\n",
       "        vertical-align: middle;\n",
       "    }\n",
       "\n",
       "    .dataframe tbody tr th {\n",
       "        vertical-align: top;\n",
       "    }\n",
       "\n",
       "    .dataframe thead th {\n",
       "        text-align: right;\n",
       "    }\n",
       "</style>\n",
       "<table border=\"1\" class=\"dataframe\">\n",
       "  <thead>\n",
       "    <tr style=\"text-align: right;\">\n",
       "      <th></th>\n",
       "      <th></th>\n",
       "      <th></th>\n",
       "      <th>id</th>\n",
       "      <th>tmdb_popularity_median</th>\n",
       "    </tr>\n",
       "    <tr>\n",
       "      <th>country1</th>\n",
       "      <th>genre1</th>\n",
       "      <th>genre2</th>\n",
       "      <th></th>\n",
       "      <th></th>\n",
       "    </tr>\n",
       "  </thead>\n",
       "  <tbody>\n",
       "    <tr>\n",
       "      <th>KR</th>\n",
       "      <th>action</th>\n",
       "      <th>thriller</th>\n",
       "      <td>1</td>\n",
       "      <td>1275.2520</td>\n",
       "    </tr>\n",
       "    <tr>\n",
       "      <th>PL</th>\n",
       "      <th>romance</th>\n",
       "      <th>drama</th>\n",
       "      <td>2</td>\n",
       "      <td>967.9595</td>\n",
       "    </tr>\n",
       "    <tr>\n",
       "      <th>SE</th>\n",
       "      <th>war</th>\n",
       "      <th>action</th>\n",
       "      <td>1</td>\n",
       "      <td>944.4050</td>\n",
       "    </tr>\n",
       "    <tr>\n",
       "      <th>NO</th>\n",
       "      <th>romance</th>\n",
       "      <th>drama</th>\n",
       "      <td>1</td>\n",
       "      <td>570.8790</td>\n",
       "    </tr>\n",
       "    <tr>\n",
       "      <th>FR</th>\n",
       "      <th>thriller</th>\n",
       "      <th>action</th>\n",
       "      <td>1</td>\n",
       "      <td>493.9270</td>\n",
       "    </tr>\n",
       "    <tr>\n",
       "      <th>DE</th>\n",
       "      <th>scifi</th>\n",
       "      <th>thriller</th>\n",
       "      <td>1</td>\n",
       "      <td>415.2030</td>\n",
       "    </tr>\n",
       "    <tr>\n",
       "      <th>ZA</th>\n",
       "      <th>drama</th>\n",
       "      <th>action</th>\n",
       "      <td>1</td>\n",
       "      <td>393.0110</td>\n",
       "    </tr>\n",
       "    <tr>\n",
       "      <th>GB</th>\n",
       "      <th>thriller</th>\n",
       "      <th>scifi</th>\n",
       "      <td>2</td>\n",
       "      <td>388.4915</td>\n",
       "    </tr>\n",
       "    <tr>\n",
       "      <th>IN</th>\n",
       "      <th>comedy</th>\n",
       "      <th>crime</th>\n",
       "      <td>1</td>\n",
       "      <td>356.0510</td>\n",
       "    </tr>\n",
       "    <tr>\n",
       "      <th>PE</th>\n",
       "      <th>romance</th>\n",
       "      <th>comedy</th>\n",
       "      <td>1</td>\n",
       "      <td>301.7960</td>\n",
       "    </tr>\n",
       "  </tbody>\n",
       "</table>\n",
       "</div>"
      ],
      "text/plain": [
       "                            id  tmdb_popularity_median\n",
       "country1 genre1   genre2                              \n",
       "KR       action   thriller   1               1275.2520\n",
       "PL       romance  drama      2                967.9595\n",
       "SE       war      action     1                944.4050\n",
       "NO       romance  drama      1                570.8790\n",
       "FR       thriller action     1                493.9270\n",
       "DE       scifi    thriller   1                415.2030\n",
       "ZA       drama    action     1                393.0110\n",
       "GB       thriller scifi      2                388.4915\n",
       "IN       comedy   crime      1                356.0510\n",
       "PE       romance  comedy     1                301.7960"
      ]
     },
     "execution_count": 54,
     "metadata": {},
     "output_type": "execute_result"
    }
   ],
   "source": [
    "# for tmdb_popularity\n",
    "movie_tmdb_popularity = movies.groupby(['country1','genre1', 'genre2'])[['id','tmdb_popularity']].agg({'id':'count', 'tmdb_popularity':'median'})\\\n",
    ".sort_values(by='tmdb_popularity', ascending=False)\n",
    "\n",
    "# rename columns \n",
    "movie_tmdb_popularity = movie_tmdb_popularity.rename(columns={'tmdb_popularity':'tmdb_popularity_median'})\n",
    "\n",
    "# view genres where median tmdb_popularity > 50 (more than 5x median)\n",
    "tmdb_pop10m = movie_tmdb_popularity.head(10)\n",
    "tmdb_pop10m"
   ]
  },
  {
   "cell_type": "code",
   "execution_count": 55,
   "id": "c5785715",
   "metadata": {},
   "outputs": [],
   "source": [
    "# trasform data\n",
    "tmdb_pop10m = tmdb_pop10m.reset_index()\n",
    "tmdb_pop10m['genre'] = tmdb_pop10m['genre1'] + ', ' + tmdb_pop10m['genre2']\n",
    "tmdb_pop10m = tmdb_pop10m.drop(['genre1','genre2'], axis=1)\n",
    "\n",
    "imdb_pop10m = imdb_pop10m.reset_index()\n",
    "imdb_pop10m['genre'] = imdb_pop10m['genre1'] + ', ' + imdb_pop10m['genre2']\n",
    "imdb_pop10m = imdb_pop10m.drop(['genre1','genre2'], axis=1)"
   ]
  },
  {
   "cell_type": "code",
   "execution_count": 56,
   "id": "915bdc37",
   "metadata": {},
   "outputs": [
    {
     "data": {
      "image/png": "[encoded data removed]",
      "text/plain": [
       "<Figure size 1296x1296 with 2 Axes>"
      ]
     },
     "metadata": {
      "needs_background": "light"
     },
     "output_type": "display_data"
    }
   ],
   "source": [
    "# set plot color palette\n",
    "palette ={\"KR\": \"#9372b2\", \n",
    "          \"JP\": \"#c03d3e\", \n",
    "          \"GB\": \"#a8a8a8\", \n",
    "          \"US\": \"#68889b\",\n",
    "          \"IN\": \"#e1812c\",\n",
    "          \"FR\": \"#a9917b\",\n",
    "          \"AU\": \"#a5c1a2\",\n",
    "          \"CO\": \"#727570\",\n",
    "          \"ES\": \"#ffc552\",\n",
    "          \"MX\": \"#f09a4f\",\n",
    "          \"DE\": \"#40413f\",\n",
    "          \"PL\": \"#ff8e85\",\n",
    "          \"SE\": \"#84adca\",\n",
    "          \"NO\": \"#b40c2e\",\n",
    "          \"ZA\": \"#3c7660\",\n",
    "          \"PE\": \"#f7af94\"}\n",
    "\n",
    "# plot imdb_votes\n",
    "fig, (ax1, ax2) = plt.subplots(2,1, figsize=(18,18))\n",
    "plt.show = sns.barplot( data=imdb_pop10m, hue='country1', x='imdb_votes_median', y='genre', orient='h', dodge=False, ax=ax1, palette = palette)\n",
    "\n",
    "plt.show = ax1.set_title(\"Top 10 Movie Genres, Production Countries and Their imdb_votes_median\", fontsize=16)\n",
    "plt.show = ax1.legend(bbox_to_anchor=[1.01,0.758])\n",
    "\n",
    "# plot tmdb_popularity\n",
    "plt.show = sns.barplot( data=tmdb_pop10m, hue='country1', x='tmdb_popularity_median', y='genre', orient='h', dodge=False, ax=ax2, palette = palette)\n",
    "\n",
    "\n",
    "plt.show = ax2.set_title(\"Top 10 Movie Genres, Production Countries and Their tmdb_popularity_median\", fontsize=16)\n",
    "plt.show = ax2.legend(bbox_to_anchor=[1.01,0.658])"
   ]
  },
  {
   "cell_type": "markdown",
   "id": "0344b44d",
   "metadata": {},
   "source": [
    "Top 10 movie genres voted out by `imdb_votes` consists of US movies under the genres of **drama, crime, scifi, comedy, action, thriller and western**.<br>\n",
    "`tmdb_popularity` does not reveal pattern in preferred movie genres.<br>\n"
   ]
  },
  {
   "cell_type": "markdown",
   "id": "9348c35a",
   "metadata": {},
   "source": [
    "### What is the distribution of content from different production countries?\n",
    "\n",
    "Do Netflix get its clients' preferences covered?"
   ]
  },
  {
   "cell_type": "code",
   "execution_count": 57,
   "id": "117441c2",
   "metadata": {},
   "outputs": [],
   "source": [
    "# extract shows from 2018 to 2022\n",
    "shows_country = ct.loc[(ct['type'] == 'SHOW'), :].sort_values(by='imdb_votes', ascending=False)\n",
    "movies_country = ct.loc[(ct['type'] == 'MOVIE'), :].sort_values(by='imdb_votes', ascending=False)"
   ]
  },
  {
   "cell_type": "markdown",
   "id": "5f84bc33",
   "metadata": {},
   "source": [
    "#### For Shows"
   ]
  },
  {
   "cell_type": "code",
   "execution_count": 58,
   "id": "7f6bc861",
   "metadata": {},
   "outputs": [
    {
     "data": {
      "text/html": [
       "<div>\n",
       "<style scoped>\n",
       "    .dataframe tbody tr th:only-of-type {\n",
       "        vertical-align: middle;\n",
       "    }\n",
       "\n",
       "    .dataframe tbody tr th {\n",
       "        vertical-align: top;\n",
       "    }\n",
       "\n",
       "    .dataframe thead th {\n",
       "        text-align: right;\n",
       "    }\n",
       "</style>\n",
       "<table border=\"1\" class=\"dataframe\">\n",
       "  <thead>\n",
       "    <tr style=\"text-align: right;\">\n",
       "      <th></th>\n",
       "      <th>country1</th>\n",
       "      <th>count</th>\n",
       "    </tr>\n",
       "  </thead>\n",
       "  <tbody>\n",
       "    <tr>\n",
       "      <th>0</th>\n",
       "      <td>US</td>\n",
       "      <td>755</td>\n",
       "    </tr>\n",
       "    <tr>\n",
       "      <th>1</th>\n",
       "      <td>JP</td>\n",
       "      <td>166</td>\n",
       "    </tr>\n",
       "    <tr>\n",
       "      <th>2</th>\n",
       "      <td>KR</td>\n",
       "      <td>163</td>\n",
       "    </tr>\n",
       "    <tr>\n",
       "      <th>3</th>\n",
       "      <td>GB</td>\n",
       "      <td>134</td>\n",
       "    </tr>\n",
       "    <tr>\n",
       "      <th>4</th>\n",
       "      <td>ES</td>\n",
       "      <td>70</td>\n",
       "    </tr>\n",
       "  </tbody>\n",
       "</table>\n",
       "</div>"
      ],
      "text/plain": [
       "  country1  count\n",
       "0       US    755\n",
       "1       JP    166\n",
       "2       KR    163\n",
       "3       GB    134\n",
       "4       ES     70"
      ]
     },
     "execution_count": 58,
     "metadata": {},
     "output_type": "execute_result"
    }
   ],
   "source": [
    "showCountry = shows_country.groupby(['country1'])[['id']].count().sort_values(['id'], ascending=False).rename(columns={'id':'count'})\n",
    "\n",
    "showCountry5 = showCountry.head().reset_index()\n",
    "showCountry5"
   ]
  },
  {
   "cell_type": "code",
   "execution_count": 59,
   "id": "f4a880cb",
   "metadata": {},
   "outputs": [
    {
     "data": {
      "image/png": "[encoded data removed]",
      "text/plain": [
       "<Figure size 504x504 with 1 Axes>"
      ]
     },
     "metadata": {
      "needs_background": "light"
     },
     "output_type": "display_data"
    }
   ],
   "source": [
    "# plot imdb_votes\n",
    "fig, ax = plt.subplots(1,1, figsize=(7,7))\n",
    "plt.show = sns.barplot( data=showCountry5, x='country1', y='count', orient='v', dodge=False, ax=ax, palette=palette)\n",
    "\n",
    "plt.show = ax.set_title(\"Number of Shows From Different Countries\", fontsize=16)\n"
   ]
  },
  {
   "cell_type": "markdown",
   "id": "a40e751e",
   "metadata": {},
   "source": [
    "The countries that Netflix got most of its shows from are **US, Japan, Korea, Great Britain, and Spain**, matching the preferences of its clients perfectly. "
   ]
  },
  {
   "cell_type": "markdown",
   "id": "68a8e019",
   "metadata": {},
   "source": [
    "#### For Movies"
   ]
  },
  {
   "cell_type": "code",
   "execution_count": 60,
   "id": "1fba5449",
   "metadata": {
    "scrolled": true
   },
   "outputs": [
    {
     "data": {
      "text/html": [
       "<div>\n",
       "<style scoped>\n",
       "    .dataframe tbody tr th:only-of-type {\n",
       "        vertical-align: middle;\n",
       "    }\n",
       "\n",
       "    .dataframe tbody tr th {\n",
       "        vertical-align: top;\n",
       "    }\n",
       "\n",
       "    .dataframe thead th {\n",
       "        text-align: right;\n",
       "    }\n",
       "</style>\n",
       "<table border=\"1\" class=\"dataframe\">\n",
       "  <thead>\n",
       "    <tr style=\"text-align: right;\">\n",
       "      <th></th>\n",
       "      <th>country1</th>\n",
       "      <th>count</th>\n",
       "    </tr>\n",
       "  </thead>\n",
       "  <tbody>\n",
       "    <tr>\n",
       "      <th>0</th>\n",
       "      <td>US</td>\n",
       "      <td>1312</td>\n",
       "    </tr>\n",
       "    <tr>\n",
       "      <th>1</th>\n",
       "      <td>IN</td>\n",
       "      <td>574</td>\n",
       "    </tr>\n",
       "    <tr>\n",
       "      <th>2</th>\n",
       "      <td>GB</td>\n",
       "      <td>168</td>\n",
       "    </tr>\n",
       "    <tr>\n",
       "      <th>3</th>\n",
       "      <td>FR</td>\n",
       "      <td>113</td>\n",
       "    </tr>\n",
       "    <tr>\n",
       "      <th>4</th>\n",
       "      <td>ES</td>\n",
       "      <td>111</td>\n",
       "    </tr>\n",
       "  </tbody>\n",
       "</table>\n",
       "</div>"
      ],
      "text/plain": [
       "  country1  count\n",
       "0       US   1312\n",
       "1       IN    574\n",
       "2       GB    168\n",
       "3       FR    113\n",
       "4       ES    111"
      ]
     },
     "execution_count": 60,
     "metadata": {},
     "output_type": "execute_result"
    }
   ],
   "source": [
    "movieCountry = movies_country.groupby(['country1'])[['id']].count().sort_values(by='id', ascending=False).rename(columns={'id':'count'})\n",
    "\n",
    "movieCountry5 = movieCountry.head().reset_index()\n",
    "movieCountry5"
   ]
  },
  {
   "cell_type": "code",
   "execution_count": 61,
   "id": "1a042c1f",
   "metadata": {},
   "outputs": [
    {
     "data": {
      "image/png": "[encoded data removed]",
      "text/plain": [
       "<Figure size 504x504 with 1 Axes>"
      ]
     },
     "metadata": {
      "needs_background": "light"
     },
     "output_type": "display_data"
    }
   ],
   "source": [
    "# plot imdb_votes\n",
    "fig, ax = plt.subplots(1,1, figsize=(7,7))\n",
    "plt.movie = sns.barplot( data=movieCountry5, x='country1', y='count', orient='v', dodge=False, ax=ax, palette=palette)\n",
    "\n",
    "plt.movie = ax.set_title(\"Number of movies From Different Countries\", fontsize=16)"
   ]
  },
  {
   "cell_type": "markdown",
   "id": "41ab20ce",
   "metadata": {},
   "source": [
    "Netflix has most of its movies from the **US**, followed by **India and Great Britain**. <br>\n",
    "The patterns of countries that Netflix got most of its movies from are less apparent compared with shows"
   ]
  },
  {
   "cell_type": "markdown",
   "id": "985e7ab5",
   "metadata": {},
   "source": [
    "### Explore age certifications\n",
    "\n",
    "The relationship between Age_certification and popularity. Do the audiences prefer more stimulating shows?"
   ]
  },
  {
   "cell_type": "markdown",
   "id": "ab250f23",
   "metadata": {},
   "source": [
    "**Considerations**:\n",
    "1. As TV and movies have very different types of audience profiles, they are studied separately. \n",
    "2. Only popularity is investigated."
   ]
  },
  {
   "cell_type": "code",
   "execution_count": 62,
   "id": "00a6f071",
   "metadata": {},
   "outputs": [],
   "source": [
    "# extract shows from 2018 to 2022\n",
    "shows_age = ct.loc[(ct['type'] == 'SHOW'), :].sort_values(by='imdb_votes', ascending=False)\n",
    "movies_age = ct.loc[(ct['type'] == 'MOVIE'), :].sort_values(by='imdb_votes', ascending=False)"
   ]
  },
  {
   "cell_type": "markdown",
   "id": "970f1b59",
   "metadata": {},
   "source": [
    "#### For Shows"
   ]
  },
  {
   "cell_type": "code",
   "execution_count": 63,
   "id": "b0d710bb",
   "metadata": {},
   "outputs": [
    {
     "data": {
      "text/html": [
       "<div>\n",
       "<style scoped>\n",
       "    .dataframe tbody tr th:only-of-type {\n",
       "        vertical-align: middle;\n",
       "    }\n",
       "\n",
       "    .dataframe tbody tr th {\n",
       "        vertical-align: top;\n",
       "    }\n",
       "\n",
       "    .dataframe thead th {\n",
       "        text-align: right;\n",
       "    }\n",
       "</style>\n",
       "<table border=\"1\" class=\"dataframe\">\n",
       "  <thead>\n",
       "    <tr style=\"text-align: right;\">\n",
       "      <th></th>\n",
       "      <th>count</th>\n",
       "      <th>imdb_votes_median</th>\n",
       "      <th>tmdb_popularity_median</th>\n",
       "    </tr>\n",
       "    <tr>\n",
       "      <th>age_certification</th>\n",
       "      <th></th>\n",
       "      <th></th>\n",
       "      <th></th>\n",
       "    </tr>\n",
       "  </thead>\n",
       "  <tbody>\n",
       "    <tr>\n",
       "      <th>TV-MA</th>\n",
       "      <td>821</td>\n",
       "      <td>2908.0</td>\n",
       "      <td>12.2590</td>\n",
       "    </tr>\n",
       "    <tr>\n",
       "      <th>TV-14</th>\n",
       "      <td>455</td>\n",
       "      <td>2279.0</td>\n",
       "      <td>12.9560</td>\n",
       "    </tr>\n",
       "    <tr>\n",
       "      <th>TV-PG</th>\n",
       "      <td>173</td>\n",
       "      <td>1459.0</td>\n",
       "      <td>8.1610</td>\n",
       "    </tr>\n",
       "    <tr>\n",
       "      <th>TV-G</th>\n",
       "      <td>302</td>\n",
       "      <td>965.5</td>\n",
       "      <td>5.7235</td>\n",
       "    </tr>\n",
       "    <tr>\n",
       "      <th>TV-Y7</th>\n",
       "      <td>105</td>\n",
       "      <td>750.0</td>\n",
       "      <td>14.7110</td>\n",
       "    </tr>\n",
       "    <tr>\n",
       "      <th>TV-Y</th>\n",
       "      <td>89</td>\n",
       "      <td>156.0</td>\n",
       "      <td>6.3940</td>\n",
       "    </tr>\n",
       "  </tbody>\n",
       "</table>\n",
       "</div>"
      ],
      "text/plain": [
       "                   count  imdb_votes_median  tmdb_popularity_median\n",
       "age_certification                                                  \n",
       "TV-MA                821             2908.0                 12.2590\n",
       "TV-14                455             2279.0                 12.9560\n",
       "TV-PG                173             1459.0                  8.1610\n",
       "TV-G                 302              965.5                  5.7235\n",
       "TV-Y7                105              750.0                 14.7110\n",
       "TV-Y                  89              156.0                  6.3940"
      ]
     },
     "execution_count": 63,
     "metadata": {},
     "output_type": "execute_result"
    }
   ],
   "source": [
    "# explore from both score and votes (both imdb and tmdb)\n",
    "# as the more stimulating content is more likely to cause heightened level of discussion\n",
    "sa = shows_age.groupby(['age_certification'])[['id','imdb_votes', 'tmdb_popularity']].agg({'id':'count', \n",
    "                                                            'imdb_votes': 'median', \n",
    "                                                            'tmdb_popularity':'median'}).sort_values(['imdb_votes','tmdb_popularity'], ascending=False).rename(columns={'id':'count',\n",
    "                                                            'imdb_votes':'imdb_votes_median', 'tmdb_popularity':'tmdb_popularity_median'})\n",
    "sa"
   ]
  },
  {
   "cell_type": "code",
   "execution_count": 64,
   "id": "f44bf049",
   "metadata": {},
   "outputs": [
    {
     "data": {
      "image/png": "[encoded data removed]",
      "text/plain": [
       "<Figure size 864x720 with 2 Axes>"
      ]
     },
     "metadata": {
      "needs_background": "light"
     },
     "output_type": "display_data"
    }
   ],
   "source": [
    "fig, ax = plt.subplots(2,1, figsize=(12,10))\n",
    "\n",
    "ax[0].bar(sa.index, sa['imdb_votes_median'])\n",
    "ax[0].set_title(\"The imdb_votes_median for Different age_certification of Shows\", fontsize=14)\n",
    "ax[0].set_xlabel(\"type\")\n",
    "ax[0].set_ylabel(\"imdb_votes_median\")\n",
    "\n",
    "ax[1].bar(sa.index, sa['tmdb_popularity_median'], color = '#ff7a00')\n",
    "ax[1].set_title(\"The tmdb_popularity_median for Different age_certification of Shows\", fontsize=14)\n",
    "ax[1].set_xlabel(\"type\")\n",
    "ax[1].set_ylabel(\"tmdb_popularity_median\")\n",
    "\n",
    "plt.tight_layout()"
   ]
  },
  {
   "cell_type": "markdown",
   "id": "a4fabf8c",
   "metadata": {},
   "source": [
    "TV-MA and TV-14 are both popular among imdb and tmdb users. This shows that some extent of stimulating content is very welcomed in shows. That being said, interestingly, TV-Y7 programs catered for children around 7 years old are very popular among tmdb users too. This shows that there is potential for programs for kids too.  "
   ]
  },
  {
   "cell_type": "markdown",
   "id": "b6b5549b",
   "metadata": {},
   "source": [
    "#### For Movies"
   ]
  },
  {
   "cell_type": "code",
   "execution_count": 65,
   "id": "721ea395",
   "metadata": {
    "scrolled": true
   },
   "outputs": [
    {
     "data": {
      "text/html": [
       "<div>\n",
       "<style scoped>\n",
       "    .dataframe tbody tr th:only-of-type {\n",
       "        vertical-align: middle;\n",
       "    }\n",
       "\n",
       "    .dataframe tbody tr th {\n",
       "        vertical-align: top;\n",
       "    }\n",
       "\n",
       "    .dataframe thead th {\n",
       "        text-align: right;\n",
       "    }\n",
       "</style>\n",
       "<table border=\"1\" class=\"dataframe\">\n",
       "  <thead>\n",
       "    <tr style=\"text-align: right;\">\n",
       "      <th></th>\n",
       "      <th>count</th>\n",
       "      <th>imdb_votes_median</th>\n",
       "      <th>tmdb_popularity_median</th>\n",
       "    </tr>\n",
       "    <tr>\n",
       "      <th>age_certification</th>\n",
       "      <th></th>\n",
       "      <th></th>\n",
       "      <th></th>\n",
       "    </tr>\n",
       "  </thead>\n",
       "  <tbody>\n",
       "    <tr>\n",
       "      <th>R</th>\n",
       "      <td>569</td>\n",
       "      <td>19728.0</td>\n",
       "      <td>15.6810</td>\n",
       "    </tr>\n",
       "    <tr>\n",
       "      <th>PG-13</th>\n",
       "      <td>436</td>\n",
       "      <td>10946.5</td>\n",
       "      <td>12.9000</td>\n",
       "    </tr>\n",
       "    <tr>\n",
       "      <th>NC-17</th>\n",
       "      <td>14</td>\n",
       "      <td>10591.5</td>\n",
       "      <td>14.4795</td>\n",
       "    </tr>\n",
       "    <tr>\n",
       "      <th>PG</th>\n",
       "      <td>244</td>\n",
       "      <td>6281.5</td>\n",
       "      <td>10.2930</td>\n",
       "    </tr>\n",
       "    <tr>\n",
       "      <th>G</th>\n",
       "      <td>2325</td>\n",
       "      <td>1700.0</td>\n",
       "      <td>4.4870</td>\n",
       "    </tr>\n",
       "  </tbody>\n",
       "</table>\n",
       "</div>"
      ],
      "text/plain": [
       "                   count  imdb_votes_median  tmdb_popularity_median\n",
       "age_certification                                                  \n",
       "R                    569            19728.0                 15.6810\n",
       "PG-13                436            10946.5                 12.9000\n",
       "NC-17                 14            10591.5                 14.4795\n",
       "PG                   244             6281.5                 10.2930\n",
       "G                   2325             1700.0                  4.4870"
      ]
     },
     "execution_count": 65,
     "metadata": {},
     "output_type": "execute_result"
    }
   ],
   "source": [
    "# explore from both score and votes (both imdb and tmdb)\n",
    "# as the more stimulating content is more likely to cause heightened level of discussion\n",
    "ma = movies_age.groupby(['age_certification'])[['id','imdb_votes', 'tmdb_popularity']].agg({'id':'count', \n",
    "                                                            'imdb_votes': 'median', \n",
    "                                                            'tmdb_popularity':'median'}).sort_values(['imdb_votes','tmdb_popularity'], ascending=False).rename(columns={'id':'count',\n",
    "                                                            'imdb_votes':'imdb_votes_median', 'tmdb_popularity':'tmdb_popularity_median'})\n",
    "\n",
    "ma"
   ]
  },
  {
   "cell_type": "code",
   "execution_count": 66,
   "id": "49724345",
   "metadata": {},
   "outputs": [
    {
     "data": {
      "image/png": "[encoded data removed]",
      "text/plain": [
       "<Figure size 864x720 with 2 Axes>"
      ]
     },
     "metadata": {
      "needs_background": "light"
     },
     "output_type": "display_data"
    }
   ],
   "source": [
    "fig, ax = plt.subplots(2,1, figsize=(12,10))\n",
    "\n",
    "ax[0].bar(ma.index, ma['imdb_votes_median'])\n",
    "ax[0].set_title(\"The imdb_votes_median for Different age_certification of Movies\", fontsize=14)\n",
    "ax[0].set_xlabel(\"type\")\n",
    "ax[0].set_ylabel(\"imdb_votes_median\")\n",
    "\n",
    "ax[1].bar(ma.index, ma['tmdb_popularity_median'], color = '#ff7a00')\n",
    "ax[1].set_title(\"The tmdb_ppopularity_median for Different age_certification of Movies\", fontsize=14)\n",
    "ax[1].set_xlabel(\"type\")\n",
    "ax[1].set_ylabel(\"tmdb_popularity_median\")\n",
    "\n",
    "plt.tight_layout()"
   ]
  },
  {
   "cell_type": "markdown",
   "id": "5161816f",
   "metadata": {},
   "source": [
    "R-rated movies are the most popular movie genres. Stimulating content is good for movie popularity as well. "
   ]
  },
  {
   "cell_type": "markdown",
   "id": "bac9a5e5",
   "metadata": {},
   "source": [
    "# Machine Learning - K-Means"
   ]
  },
  {
   "cell_type": "markdown",
   "id": "fd717013",
   "metadata": {},
   "source": [
    "This section is using unsupervised machine learning method, K-Means. K-Means is an algorithm to cluster or group the unlabeled data.  The goal of this algorithm is to find groups in the data, with the number of groups represented by the variable K."
   ]
  },
  {
   "cell_type": "markdown",
   "id": "8b5c046f",
   "metadata": {},
   "source": [
    "By using the prepared dataset from the previous works and steps, First, do the necessary data pre-processing for model development. In order to more easily visualize and analyze the dataset, we use the Principle Component Analysis (PCA) method to reduce the dimension of the dataset to summarize the information content in large data tables by means of a smaller set of “summary indices”. Then we can train the model with the dataset by using K-means with elbow method to identify the best optimal number of clusters. By using the K-Means and the determined k number of cluster to cluster each data row. Lastly, analyze and intepret the result.\n"
   ]
  },
  {
   "cell_type": "markdown",
   "id": "f16d33d5",
   "metadata": {},
   "source": [
    "## Data Pre-processing for Clustering\n",
    "In order to reduce the dimension of the dataset, all data must in type of numerical. With the necessary library, do the data type checking, if any features are object type, use LabelEncoder to convert them to numerical type. and scale all the features. The process steps are show in the following."
   ]
  },
  {
   "cell_type": "markdown",
   "id": "93aa1064",
   "metadata": {},
   "source": [
    "**The following steps are applied to preprocess the data:**\n",
    "\n",
    "* Label encoding the categorical features\n",
    "* Scaling the features using the standard scaler \n",
    "* Creating a subset dataframe for dimensionality reduction"
   ]
  },
  {
   "cell_type": "code",
   "execution_count": 67,
   "id": "e3824229",
   "metadata": {},
   "outputs": [
    {
     "name": "stdout",
     "output_type": "stream",
     "text": [
      "Requirement already satisfied: yellowbrick in c:\\users\\admin\\anaconda3\\lib\\site-packages (1.4)\n",
      "Requirement already satisfied: scipy>=1.0.0 in c:\\users\\admin\\anaconda3\\lib\\site-packages (from yellowbrick) (1.6.2)\n",
      "Requirement already satisfied: scikit-learn>=1.0.0 in c:\\users\\admin\\anaconda3\\lib\\site-packages (from yellowbrick) (1.1.1)\n",
      "Requirement already satisfied: cycler>=0.10.0 in c:\\users\\admin\\anaconda3\\lib\\site-packages (from yellowbrick) (0.10.0)\n",
      "Requirement already satisfied: numpy>=1.16.0 in c:\\users\\admin\\anaconda3\\lib\\site-packages (from yellowbrick) (1.20.1)\n",
      "Requirement already satisfied: matplotlib!=3.0.0,>=2.0.2 in c:\\users\\admin\\anaconda3\\lib\\site-packages (from yellowbrick) (3.3.4)\n",
      "Requirement already satisfied: six in c:\\users\\admin\\anaconda3\\lib\\site-packages (from cycler>=0.10.0->yellowbrick) (1.15.0)\n",
      "Requirement already satisfied: pillow>=6.2.0 in c:\\users\\admin\\anaconda3\\lib\\site-packages (from matplotlib!=3.0.0,>=2.0.2->yellowbrick) (8.2.0)\n",
      "Requirement already satisfied: kiwisolver>=1.0.1 in c:\\users\\admin\\anaconda3\\lib\\site-packages (from matplotlib!=3.0.0,>=2.0.2->yellowbrick) (1.3.1)\n",
      "Requirement already satisfied: pyparsing!=2.0.4,!=2.1.2,!=2.1.6,>=2.0.3 in c:\\users\\admin\\anaconda3\\lib\\site-packages (from matplotlib!=3.0.0,>=2.0.2->yellowbrick) (2.4.7)\n",
      "Requirement already satisfied: python-dateutil>=2.1 in c:\\users\\admin\\anaconda3\\lib\\site-packages (from matplotlib!=3.0.0,>=2.0.2->yellowbrick) (2.8.1)\n",
      "Requirement already satisfied: joblib>=1.0.0 in c:\\users\\admin\\anaconda3\\lib\\site-packages (from scikit-learn>=1.0.0->yellowbrick) (1.0.1)\n",
      "Requirement already satisfied: threadpoolctl>=2.0.0 in c:\\users\\admin\\anaconda3\\lib\\site-packages (from scikit-learn>=1.0.0->yellowbrick) (2.1.0)\n"
     ]
    }
   ],
   "source": [
    "#First, to import the necessary library.\n",
    "import seaborn as sns\n",
    "from sklearn.preprocessing import LabelEncoder\n",
    "from sklearn.preprocessing import StandardScaler\n",
    "from sklearn.decomposition import PCA\n",
    "import matplotlib\n",
    "import matplotlib.pyplot as plt\n",
    "%matplotlib inline\n",
    "!pip install yellowbrick\n",
    "from yellowbrick.cluster import KElbowVisualizer\n",
    "from sklearn.cluster import KMeans"
   ]
  },
  {
   "cell_type": "code",
   "execution_count": 68,
   "id": "f587c0df",
   "metadata": {},
   "outputs": [
    {
     "name": "stdout",
     "output_type": "stream",
     "text": [
      "Categorical variables in the dataset: ['id', 'type', 'age_certification', 'genre1', 'country1']\n"
     ]
    }
   ],
   "source": [
    "#Get list of categorical variables. check which column data type are object\n",
    "s = (df_titles.dtypes == 'object')\n",
    "object_cols = list(s[s].index)\n",
    "\n",
    "print(\"Categorical variables in the dataset:\", object_cols)"
   ]
  },
  {
   "cell_type": "code",
   "execution_count": 69,
   "id": "cb7ac5e7",
   "metadata": {},
   "outputs": [
    {
     "name": "stdout",
     "output_type": "stream",
     "text": [
      "All features are now numerical\n"
     ]
    }
   ],
   "source": [
    "#Label Encoding the object dtypes. function to ensure all columns are numerical\n",
    "LE=LabelEncoder()\n",
    "for i in object_cols:\n",
    "    df_titles[i]=df_titles[[i]].apply(LE.fit_transform)\n",
    "    \n",
    "print(\"All features are now numerical\")"
   ]
  },
  {
   "cell_type": "code",
   "execution_count": 70,
   "id": "d3603221",
   "metadata": {},
   "outputs": [
    {
     "name": "stdout",
     "output_type": "stream",
     "text": [
      "All features are now scaled\n"
     ]
    }
   ],
   "source": [
    "#Creating a copy of df\n",
    "ds = df_titles.copy()\n",
    "\n",
    "#Scaling\n",
    "scaler = StandardScaler()\n",
    "scaler.fit(ds)\n",
    "scaled_ds = pd.DataFrame(scaler.transform(ds),columns= ds.columns )\n",
    "print(\"All features are now scaled\")"
   ]
  },
  {
   "cell_type": "code",
   "execution_count": 71,
   "id": "38ba8b53",
   "metadata": {},
   "outputs": [
    {
     "name": "stdout",
     "output_type": "stream",
     "text": [
      "dataframe to be used for further modelling:\n"
     ]
    },
    {
     "data": {
      "text/html": [
       "<div>\n",
       "<style scoped>\n",
       "    .dataframe tbody tr th:only-of-type {\n",
       "        vertical-align: middle;\n",
       "    }\n",
       "\n",
       "    .dataframe tbody tr th {\n",
       "        vertical-align: top;\n",
       "    }\n",
       "\n",
       "    .dataframe thead th {\n",
       "        text-align: right;\n",
       "    }\n",
       "</style>\n",
       "<table border=\"1\" class=\"dataframe\">\n",
       "  <thead>\n",
       "    <tr style=\"text-align: right;\">\n",
       "      <th></th>\n",
       "      <th>id</th>\n",
       "      <th>type</th>\n",
       "      <th>release_year</th>\n",
       "      <th>age_certification</th>\n",
       "      <th>runtime</th>\n",
       "      <th>seasons</th>\n",
       "      <th>imdb_score</th>\n",
       "      <th>imdb_votes</th>\n",
       "      <th>tmdb_popularity</th>\n",
       "      <th>tmdb_score</th>\n",
       "      <th>genre1</th>\n",
       "      <th>country1</th>\n",
       "    </tr>\n",
       "  </thead>\n",
       "  <tbody>\n",
       "    <tr>\n",
       "      <th>0</th>\n",
       "      <td>1.031154</td>\n",
       "      <td>1.358208</td>\n",
       "      <td>-9.578067</td>\n",
       "      <td>1.270953</td>\n",
       "      <td>-0.779058</td>\n",
       "      <td>0.119099</td>\n",
       "      <td>0.049685</td>\n",
       "      <td>-0.236880</td>\n",
       "      <td>-0.321770</td>\n",
       "      <td>0.072703</td>\n",
       "      <td>-0.391346</td>\n",
       "      <td>1.054632</td>\n",
       "    </tr>\n",
       "    <tr>\n",
       "      <th>1</th>\n",
       "      <td>0.154642</td>\n",
       "      <td>-0.736264</td>\n",
       "      <td>-5.389868</td>\n",
       "      <td>0.293175</td>\n",
       "      <td>0.867990</td>\n",
       "      <td>-0.405980</td>\n",
       "      <td>1.583974</td>\n",
       "      <td>9.079440</td>\n",
       "      <td>0.065557</td>\n",
       "      <td>1.229926</td>\n",
       "      <td>-0.612907</td>\n",
       "      <td>1.054632</td>\n",
       "    </tr>\n",
       "    <tr>\n",
       "      <th>2</th>\n",
       "      <td>-1.460019</td>\n",
       "      <td>-0.736264</td>\n",
       "      <td>-5.524971</td>\n",
       "      <td>-0.358678</td>\n",
       "      <td>0.310528</td>\n",
       "      <td>-0.405980</td>\n",
       "      <td>1.493721</td>\n",
       "      <td>5.973640</td>\n",
       "      <td>-0.069173</td>\n",
       "      <td>0.873858</td>\n",
       "      <td>-0.834468</td>\n",
       "      <td>-1.019983</td>\n",
       "    </tr>\n",
       "    <tr>\n",
       "      <th>3</th>\n",
       "      <td>-0.024417</td>\n",
       "      <td>-0.736264</td>\n",
       "      <td>-4.984558</td>\n",
       "      <td>0.293175</td>\n",
       "      <td>0.386545</td>\n",
       "      <td>-0.405980</td>\n",
       "      <td>1.313217</td>\n",
       "      <td>4.346891</td>\n",
       "      <td>-0.079368</td>\n",
       "      <td>0.873858</td>\n",
       "      <td>-0.834468</td>\n",
       "      <td>-1.019983</td>\n",
       "    </tr>\n",
       "    <tr>\n",
       "      <th>4</th>\n",
       "      <td>-1.189552</td>\n",
       "      <td>-0.736264</td>\n",
       "      <td>-5.795177</td>\n",
       "      <td>0.293175</td>\n",
       "      <td>1.374774</td>\n",
       "      <td>-0.405980</td>\n",
       "      <td>1.403469</td>\n",
       "      <td>4.341287</td>\n",
       "      <td>1.036671</td>\n",
       "      <td>0.784840</td>\n",
       "      <td>0.716460</td>\n",
       "      <td>1.054632</td>\n",
       "    </tr>\n",
       "  </tbody>\n",
       "</table>\n",
       "</div>"
      ],
      "text/plain": [
       "         id      type  release_year  age_certification   runtime   seasons  \\\n",
       "0  1.031154  1.358208     -9.578067           1.270953 -0.779058  0.119099   \n",
       "1  0.154642 -0.736264     -5.389868           0.293175  0.867990 -0.405980   \n",
       "2 -1.460019 -0.736264     -5.524971          -0.358678  0.310528 -0.405980   \n",
       "3 -0.024417 -0.736264     -4.984558           0.293175  0.386545 -0.405980   \n",
       "4 -1.189552 -0.736264     -5.795177           0.293175  1.374774 -0.405980   \n",
       "\n",
       "   imdb_score  imdb_votes  tmdb_popularity  tmdb_score    genre1  country1  \n",
       "0    0.049685   -0.236880        -0.321770    0.072703 -0.391346  1.054632  \n",
       "1    1.583974    9.079440         0.065557    1.229926 -0.612907  1.054632  \n",
       "2    1.493721    5.973640        -0.069173    0.873858 -0.834468 -1.019983  \n",
       "3    1.313217    4.346891        -0.079368    0.873858 -0.834468 -1.019983  \n",
       "4    1.403469    4.341287         1.036671    0.784840  0.716460  1.054632  "
      ]
     },
     "execution_count": 71,
     "metadata": {},
     "output_type": "execute_result"
    }
   ],
   "source": [
    "#Scaled data to be used for reducing the dimensionality\n",
    "print(\"dataframe to be used for further modelling:\")\n",
    "scaled_ds.head()"
   ]
  },
  {
   "cell_type": "markdown",
   "id": "b07aaa59",
   "metadata": {},
   "source": [
    "From the sample dataset above, all data has converted into numerical type."
   ]
  },
  {
   "cell_type": "markdown",
   "id": "0f2ef594",
   "metadata": {},
   "source": [
    "## Dimensionality Reduction\n",
    "Dimensionality reduction is the process of reducing the number of random variables under consideration, by obtaining a set of principal variables.\n",
    "**Principal component analysis (PCA)** is a technique for reducing the dimensionality of such datasets, increasing interpretability but at the same time minimizing information loss.\n",
    "In order to cluster the data in the next step and analysis, by using this PCA technique, we reduce the dimension of dataset into 2 dimensions."
   ]
  },
  {
   "cell_type": "markdown",
   "id": "6f44f73d",
   "metadata": {},
   "source": [
    "**Steps in this section:**\n",
    "* Dimensionality reduction with PCA\n",
    "* Plotting the reduced dataframe\n",
    "\n",
    "**Dimensionality reduction with PCA**\n",
    "\n",
    "Target: Reduce the dimensions to 2."
   ]
  },
  {
   "cell_type": "code",
   "execution_count": 72,
   "id": "85619e02",
   "metadata": {},
   "outputs": [
    {
     "data": {
      "text/html": [
       "<div>\n",
       "<style scoped>\n",
       "    .dataframe tbody tr th:only-of-type {\n",
       "        vertical-align: middle;\n",
       "    }\n",
       "\n",
       "    .dataframe tbody tr th {\n",
       "        vertical-align: top;\n",
       "    }\n",
       "\n",
       "    .dataframe thead th {\n",
       "        text-align: right;\n",
       "    }\n",
       "</style>\n",
       "<table border=\"1\" class=\"dataframe\">\n",
       "  <thead>\n",
       "    <tr style=\"text-align: right;\">\n",
       "      <th></th>\n",
       "      <th>count</th>\n",
       "      <th>mean</th>\n",
       "      <th>std</th>\n",
       "      <th>min</th>\n",
       "      <th>25%</th>\n",
       "      <th>50%</th>\n",
       "      <th>75%</th>\n",
       "      <th>max</th>\n",
       "    </tr>\n",
       "  </thead>\n",
       "  <tbody>\n",
       "    <tr>\n",
       "      <th>col1</th>\n",
       "      <td>5533.0</td>\n",
       "      <td>4.237829e-17</td>\n",
       "      <td>1.994336</td>\n",
       "      <td>-4.109828</td>\n",
       "      <td>-1.536986</td>\n",
       "      <td>-0.908136</td>\n",
       "      <td>2.178725</td>\n",
       "      <td>9.522855</td>\n",
       "    </tr>\n",
       "    <tr>\n",
       "      <th>col2</th>\n",
       "      <td>5533.0</td>\n",
       "      <td>3.339197e-16</td>\n",
       "      <td>1.249928</td>\n",
       "      <td>-3.660726</td>\n",
       "      <td>-0.678278</td>\n",
       "      <td>-0.201608</td>\n",
       "      <td>0.390849</td>\n",
       "      <td>17.934351</td>\n",
       "    </tr>\n",
       "  </tbody>\n",
       "</table>\n",
       "</div>"
      ],
      "text/plain": [
       "       count          mean       std       min       25%       50%       75%  \\\n",
       "col1  5533.0  4.237829e-17  1.994336 -4.109828 -1.536986 -0.908136  2.178725   \n",
       "col2  5533.0  3.339197e-16  1.249928 -3.660726 -0.678278 -0.201608  0.390849   \n",
       "\n",
       "            max  \n",
       "col1   9.522855  \n",
       "col2  17.934351  "
      ]
     },
     "execution_count": 72,
     "metadata": {},
     "output_type": "execute_result"
    }
   ],
   "source": [
    "#Initiating PCA to reduce dimensions of features to 2 for analysis later\n",
    "pca = PCA(n_components=2)\n",
    "pca.fit(scaled_ds)\n",
    "PCA_ds = pd.DataFrame(pca.transform(scaled_ds), columns=([\"col1\",\"col2\"]))\n",
    "PCA_ds.describe().T"
   ]
  },
  {
   "cell_type": "code",
   "execution_count": 73,
   "id": "c0bf4aa1",
   "metadata": {},
   "outputs": [
    {
     "data": {
      "text/html": [
       "<div>\n",
       "<style scoped>\n",
       "    .dataframe tbody tr th:only-of-type {\n",
       "        vertical-align: middle;\n",
       "    }\n",
       "\n",
       "    .dataframe tbody tr th {\n",
       "        vertical-align: top;\n",
       "    }\n",
       "\n",
       "    .dataframe thead th {\n",
       "        text-align: right;\n",
       "    }\n",
       "</style>\n",
       "<table border=\"1\" class=\"dataframe\">\n",
       "  <thead>\n",
       "    <tr style=\"text-align: right;\">\n",
       "      <th></th>\n",
       "      <th>col1</th>\n",
       "      <th>col2</th>\n",
       "    </tr>\n",
       "  </thead>\n",
       "  <tbody>\n",
       "    <tr>\n",
       "      <th>0</th>\n",
       "      <td>1.376119</td>\n",
       "      <td>3.506553</td>\n",
       "    </tr>\n",
       "    <tr>\n",
       "      <th>1</th>\n",
       "      <td>-0.179430</td>\n",
       "      <td>8.811898</td>\n",
       "    </tr>\n",
       "    <tr>\n",
       "      <th>2</th>\n",
       "      <td>-1.148036</td>\n",
       "      <td>6.767229</td>\n",
       "    </tr>\n",
       "    <tr>\n",
       "      <th>3</th>\n",
       "      <td>-0.296263</td>\n",
       "      <td>5.297439</td>\n",
       "    </tr>\n",
       "    <tr>\n",
       "      <th>4</th>\n",
       "      <td>-1.177202</td>\n",
       "      <td>6.853700</td>\n",
       "    </tr>\n",
       "    <tr>\n",
       "      <th>...</th>\n",
       "      <td>...</td>\n",
       "      <td>...</td>\n",
       "    </tr>\n",
       "    <tr>\n",
       "      <th>5528</th>\n",
       "      <td>-3.510827</td>\n",
       "      <td>-2.397637</td>\n",
       "    </tr>\n",
       "    <tr>\n",
       "      <th>5529</th>\n",
       "      <td>2.053090</td>\n",
       "      <td>-1.217860</td>\n",
       "    </tr>\n",
       "    <tr>\n",
       "      <th>5530</th>\n",
       "      <td>-1.959086</td>\n",
       "      <td>-0.450683</td>\n",
       "    </tr>\n",
       "    <tr>\n",
       "      <th>5531</th>\n",
       "      <td>-1.807742</td>\n",
       "      <td>0.232413</td>\n",
       "    </tr>\n",
       "    <tr>\n",
       "      <th>5532</th>\n",
       "      <td>-1.671320</td>\n",
       "      <td>-0.209704</td>\n",
       "    </tr>\n",
       "  </tbody>\n",
       "</table>\n",
       "<p>5533 rows × 2 columns</p>\n",
       "</div>"
      ],
      "text/plain": [
       "          col1      col2\n",
       "0     1.376119  3.506553\n",
       "1    -0.179430  8.811898\n",
       "2    -1.148036  6.767229\n",
       "3    -0.296263  5.297439\n",
       "4    -1.177202  6.853700\n",
       "...        ...       ...\n",
       "5528 -3.510827 -2.397637\n",
       "5529  2.053090 -1.217860\n",
       "5530 -1.959086 -0.450683\n",
       "5531 -1.807742  0.232413\n",
       "5532 -1.671320 -0.209704\n",
       "\n",
       "[5533 rows x 2 columns]"
      ]
     },
     "execution_count": 73,
     "metadata": {},
     "output_type": "execute_result"
    }
   ],
   "source": [
    "PCA_ds"
   ]
  },
  {
   "cell_type": "markdown",
   "id": "86f02325",
   "metadata": {},
   "source": [
    "### Data Visualization\n",
    "After the dimension of the data reduced into 2, plot the chart to see the data plotting."
   ]
  },
  {
   "cell_type": "code",
   "execution_count": 74,
   "id": "60f3c048",
   "metadata": {},
   "outputs": [
    {
     "data": {
      "text/plain": [
       "Text(0.5, 1.0, 'A Projection Of data In The Reduced Dimension')"
      ]
     },
     "execution_count": 74,
     "metadata": {},
     "output_type": "execute_result"
    },
    {
     "data": {
      "image/png": "[encoded data removed]",
      "text/plain": [
       "<Figure size 720x576 with 1 Axes>"
      ]
     },
     "metadata": {},
     "output_type": "display_data"
    }
   ],
   "source": [
    "#A Projection Of data In The Reduced Dimension. Overview data trend\n",
    "x =PCA_ds[\"col1\"]\n",
    "y =PCA_ds[\"col2\"]\n",
    "\n",
    "#To plot\n",
    "fig = plt.figure(figsize=(10,8))\n",
    "ax = fig.add_subplot(111)\n",
    "ax.scatter(x,y, c=\"green\", marker=\"o\" )\n",
    "ax.set_title(\"A Projection Of data In The Reduced Dimension\")"
   ]
  },
  {
   "cell_type": "markdown",
   "id": "d41757c4",
   "metadata": {},
   "source": [
    "### K-Means with Elbow to find the best number of cluster"
   ]
  },
  {
   "cell_type": "markdown",
   "id": "824710f9",
   "metadata": {},
   "source": [
    "K-means require a initial number of cluster and trail to select and decide. K-Means with Elbow is know as one of the method to identify the best number of cluster to distribute with the distribution score and fit time. The result as the following steps shows that the 5 clusters are the best."
   ]
  },
  {
   "cell_type": "code",
   "execution_count": 77,
   "id": "c4395371",
   "metadata": {},
   "outputs": [
    {
     "name": "stdout",
     "output_type": "stream",
     "text": [
      "Elbow Method to determine the number of clusters to be formed:\n"
     ]
    },
    {
     "ename": "TypeError",
     "evalue": "'Text' object is not callable",
     "output_type": "error",
     "traceback": [
      "\u001b[1;31m---------------------------------------------------------------------------\u001b[0m",
      "\u001b[1;31mTypeError\u001b[0m                                 Traceback (most recent call last)",
      "\u001b[1;32m<ipython-input-77-ccf25149f129>\u001b[0m in \u001b[0;36m<module>\u001b[1;34m\u001b[0m\n\u001b[0;32m      4\u001b[0m \u001b[0mElbow_M\u001b[0m \u001b[1;33m=\u001b[0m \u001b[0mKElbowVisualizer\u001b[0m\u001b[1;33m(\u001b[0m\u001b[0mmodel\u001b[0m\u001b[1;33m,\u001b[0m \u001b[0mrandom_state\u001b[0m\u001b[1;33m=\u001b[0m\u001b[1;36m0\u001b[0m\u001b[1;33m)\u001b[0m\u001b[1;33m\u001b[0m\u001b[1;33m\u001b[0m\u001b[0m\n\u001b[0;32m      5\u001b[0m \u001b[0mElbow_M\u001b[0m\u001b[1;33m.\u001b[0m\u001b[0mfit\u001b[0m\u001b[1;33m(\u001b[0m\u001b[0mPCA_ds\u001b[0m\u001b[1;33m)\u001b[0m\u001b[1;33m\u001b[0m\u001b[1;33m\u001b[0m\u001b[0m\n\u001b[1;32m----> 6\u001b[1;33m \u001b[0mElbow_M\u001b[0m\u001b[1;33m.\u001b[0m\u001b[0mshow\u001b[0m\u001b[1;33m(\u001b[0m\u001b[1;33m)\u001b[0m\u001b[1;33m\u001b[0m\u001b[1;33m\u001b[0m\u001b[0m\n\u001b[0m",
      "\u001b[1;32m~\\anaconda3\\lib\\site-packages\\yellowbrick\\base.py\u001b[0m in \u001b[0;36mshow\u001b[1;34m(self, outpath, clear_figure, **kwargs)\u001b[0m\n\u001b[0;32m    244\u001b[0m             \u001b[0mplt\u001b[0m\u001b[1;33m.\u001b[0m\u001b[0msavefig\u001b[0m\u001b[1;33m(\u001b[0m\u001b[0moutpath\u001b[0m\u001b[1;33m,\u001b[0m \u001b[1;33m**\u001b[0m\u001b[0mkwargs\u001b[0m\u001b[1;33m)\u001b[0m\u001b[1;33m\u001b[0m\u001b[1;33m\u001b[0m\u001b[0m\n\u001b[0;32m    245\u001b[0m         \u001b[1;32melse\u001b[0m\u001b[1;33m:\u001b[0m\u001b[1;33m\u001b[0m\u001b[1;33m\u001b[0m\u001b[0m\n\u001b[1;32m--> 246\u001b[1;33m             \u001b[0mplt\u001b[0m\u001b[1;33m.\u001b[0m\u001b[0mshow\u001b[0m\u001b[1;33m(\u001b[0m\u001b[1;33m)\u001b[0m\u001b[1;33m\u001b[0m\u001b[1;33m\u001b[0m\u001b[0m\n\u001b[0m\u001b[0;32m    247\u001b[0m \u001b[1;33m\u001b[0m\u001b[0m\n\u001b[0;32m    248\u001b[0m         \u001b[1;32mif\u001b[0m \u001b[0mclear_figure\u001b[0m\u001b[1;33m:\u001b[0m\u001b[1;33m\u001b[0m\u001b[1;33m\u001b[0m\u001b[0m\n",
      "\u001b[1;31mTypeError\u001b[0m: 'Text' object is not callable"
     ]
    },
    {
     "data": {
      "image/png": "[encoded data removed]",
      "text/plain": [
       "<Figure size 576x396 with 2 Axes>"
      ]
     },
     "metadata": {},
     "output_type": "display_data"
    }
   ],
   "source": [
    "# Quick examination of elbow method to find numbers of clusters to make.\n",
    "print('Elbow Method to determine the number of clusters to be formed:')\n",
    "model=KMeans(5)\n",
    "Elbow_M = KElbowVisualizer(model, random_state=0)\n",
    "Elbow_M.fit(PCA_ds)\n",
    "Elbow_M.show()"
   ]
  },
  {
   "cell_type": "markdown",
   "id": "e390399c",
   "metadata": {},
   "source": [
    "From the model above has identified the best number of cluster is 5 cluster. Hence, we will use k=5 to cluster our dataset. Although there is minor error show for plotting, but it doesnt affect the result."
   ]
  },
  {
   "cell_type": "markdown",
   "id": "3bc7c0ea",
   "metadata": {},
   "source": [
    "### Clustering"
   ]
  },
  {
   "cell_type": "markdown",
   "id": "a43df42e",
   "metadata": {},
   "source": [
    "From previous steps, use 5 cluster to do distribution of 5 cluster by using K-Means as show as below. The red dot in the middle of cluster indicated the core point of each cluster and each cluster are classified with the same color. The label of each data is store in the dataframe last column of \"Clusters\""
   ]
  },
  {
   "cell_type": "code",
   "execution_count": 78,
   "id": "99686de0",
   "metadata": {},
   "outputs": [],
   "source": [
    "X=PCA_ds.iloc[:,[0,1]].values\n",
    "#Predit the cluster of each row of data with 2 cluster\n",
    "kmeans = KMeans(n_clusters=5)\n",
    "kmeans.fit(X)\n",
    "y_kmeans= kmeans.predict(X)\n",
    "#create a new column and label cluster\n",
    "df_titles['Clusters']=y_kmeans"
   ]
  },
  {
   "cell_type": "code",
   "execution_count": 79,
   "id": "3317224b",
   "metadata": {},
   "outputs": [
    {
     "data": {
      "text/plain": [
       "<matplotlib.collections.PathCollection at 0x1c2de1abbe0>"
      ]
     },
     "execution_count": 79,
     "metadata": {},
     "output_type": "execute_result"
    },
    {
     "data": {
      "image/png": "[encoded data removed]",
      "text/plain": [
       "<Figure size 1080x720 with 1 Axes>"
      ]
     },
     "metadata": {},
     "output_type": "display_data"
    }
   ],
   "source": [
    "#Plotting the clusters\n",
    "plt.figure(figsize=(15,10))\n",
    "plt.title('Plot of Cluster')\n",
    "plt.scatter(X[:, 0], X[:, 1], c=y_kmeans, s=50, cmap='PiYG')\n",
    "\n",
    "centers = kmeans.cluster_centers_\n",
    "plt.scatter(centers[:, 0], centers[:, 1], c='red', s=200, alpha=0.5)"
   ]
  },
  {
   "cell_type": "markdown",
   "id": "5a55f5a1",
   "metadata": {},
   "source": [
    "Each row of data has distributed in a cluster as show in example table below, the last column named as 'Clusters'."
   ]
  },
  {
   "cell_type": "code",
   "execution_count": 80,
   "id": "0e76f876",
   "metadata": {},
   "outputs": [
    {
     "data": {
      "text/html": [
       "<div>\n",
       "<style scoped>\n",
       "    .dataframe tbody tr th:only-of-type {\n",
       "        vertical-align: middle;\n",
       "    }\n",
       "\n",
       "    .dataframe tbody tr th {\n",
       "        vertical-align: top;\n",
       "    }\n",
       "\n",
       "    .dataframe thead th {\n",
       "        text-align: right;\n",
       "    }\n",
       "</style>\n",
       "<table border=\"1\" class=\"dataframe\">\n",
       "  <thead>\n",
       "    <tr style=\"text-align: right;\">\n",
       "      <th></th>\n",
       "      <th>id</th>\n",
       "      <th>type</th>\n",
       "      <th>release_year</th>\n",
       "      <th>age_certification</th>\n",
       "      <th>runtime</th>\n",
       "      <th>seasons</th>\n",
       "      <th>imdb_score</th>\n",
       "      <th>imdb_votes</th>\n",
       "      <th>tmdb_popularity</th>\n",
       "      <th>tmdb_score</th>\n",
       "      <th>genre1</th>\n",
       "      <th>country1</th>\n",
       "      <th>Clusters</th>\n",
       "    </tr>\n",
       "  </thead>\n",
       "  <tbody>\n",
       "    <tr>\n",
       "      <th>0</th>\n",
       "      <td>4413</td>\n",
       "      <td>1</td>\n",
       "      <td>1945</td>\n",
       "      <td>7</td>\n",
       "      <td>48</td>\n",
       "      <td>1.0</td>\n",
       "      <td>6.6</td>\n",
       "      <td>2279.0</td>\n",
       "      <td>0.600</td>\n",
       "      <td>6.9</td>\n",
       "      <td>4</td>\n",
       "      <td>88</td>\n",
       "      <td>1</td>\n",
       "    </tr>\n",
       "    <tr>\n",
       "      <th>1</th>\n",
       "      <td>3013</td>\n",
       "      <td>0</td>\n",
       "      <td>1976</td>\n",
       "      <td>4</td>\n",
       "      <td>113</td>\n",
       "      <td>0.0</td>\n",
       "      <td>8.3</td>\n",
       "      <td>795222.0</td>\n",
       "      <td>27.612</td>\n",
       "      <td>8.2</td>\n",
       "      <td>3</td>\n",
       "      <td>88</td>\n",
       "      <td>2</td>\n",
       "    </tr>\n",
       "    <tr>\n",
       "      <th>2</th>\n",
       "      <td>434</td>\n",
       "      <td>0</td>\n",
       "      <td>1975</td>\n",
       "      <td>2</td>\n",
       "      <td>91</td>\n",
       "      <td>0.0</td>\n",
       "      <td>8.2</td>\n",
       "      <td>530877.0</td>\n",
       "      <td>18.216</td>\n",
       "      <td>7.8</td>\n",
       "      <td>2</td>\n",
       "      <td>27</td>\n",
       "      <td>2</td>\n",
       "    </tr>\n",
       "    <tr>\n",
       "      <th>3</th>\n",
       "      <td>2727</td>\n",
       "      <td>0</td>\n",
       "      <td>1979</td>\n",
       "      <td>4</td>\n",
       "      <td>94</td>\n",
       "      <td>0.0</td>\n",
       "      <td>8.0</td>\n",
       "      <td>392419.0</td>\n",
       "      <td>17.505</td>\n",
       "      <td>7.8</td>\n",
       "      <td>2</td>\n",
       "      <td>27</td>\n",
       "      <td>2</td>\n",
       "    </tr>\n",
       "    <tr>\n",
       "      <th>4</th>\n",
       "      <td>866</td>\n",
       "      <td>0</td>\n",
       "      <td>1973</td>\n",
       "      <td>4</td>\n",
       "      <td>133</td>\n",
       "      <td>0.0</td>\n",
       "      <td>8.1</td>\n",
       "      <td>391942.0</td>\n",
       "      <td>95.337</td>\n",
       "      <td>7.7</td>\n",
       "      <td>9</td>\n",
       "      <td>88</td>\n",
       "      <td>2</td>\n",
       "    </tr>\n",
       "    <tr>\n",
       "      <th>...</th>\n",
       "      <td>...</td>\n",
       "      <td>...</td>\n",
       "      <td>...</td>\n",
       "      <td>...</td>\n",
       "      <td>...</td>\n",
       "      <td>...</td>\n",
       "      <td>...</td>\n",
       "      <td>...</td>\n",
       "      <td>...</td>\n",
       "      <td>...</td>\n",
       "      <td>...</td>\n",
       "      <td>...</td>\n",
       "      <td>...</td>\n",
       "    </tr>\n",
       "    <tr>\n",
       "      <th>5798</th>\n",
       "      <td>24</td>\n",
       "      <td>0</td>\n",
       "      <td>2021</td>\n",
       "      <td>0</td>\n",
       "      <td>107</td>\n",
       "      <td>0.0</td>\n",
       "      <td>2.2</td>\n",
       "      <td>950.0</td>\n",
       "      <td>2.911</td>\n",
       "      <td>4.0</td>\n",
       "      <td>5</td>\n",
       "      <td>38</td>\n",
       "      <td>0</td>\n",
       "    </tr>\n",
       "    <tr>\n",
       "      <th>5799</th>\n",
       "      <td>4455</td>\n",
       "      <td>1</td>\n",
       "      <td>2021</td>\n",
       "      <td>5</td>\n",
       "      <td>24</td>\n",
       "      <td>1.0</td>\n",
       "      <td>6.6</td>\n",
       "      <td>2279.0</td>\n",
       "      <td>0.600</td>\n",
       "      <td>6.9</td>\n",
       "      <td>2</td>\n",
       "      <td>61</td>\n",
       "      <td>4</td>\n",
       "    </tr>\n",
       "    <tr>\n",
       "      <th>5800</th>\n",
       "      <td>124</td>\n",
       "      <td>0</td>\n",
       "      <td>2021</td>\n",
       "      <td>0</td>\n",
       "      <td>108</td>\n",
       "      <td>0.0</td>\n",
       "      <td>5.8</td>\n",
       "      <td>26.0</td>\n",
       "      <td>4.112</td>\n",
       "      <td>6.9</td>\n",
       "      <td>2</td>\n",
       "      <td>66</td>\n",
       "      <td>0</td>\n",
       "    </tr>\n",
       "    <tr>\n",
       "      <th>5801</th>\n",
       "      <td>34</td>\n",
       "      <td>0</td>\n",
       "      <td>2021</td>\n",
       "      <td>0</td>\n",
       "      <td>100</td>\n",
       "      <td>0.0</td>\n",
       "      <td>6.9</td>\n",
       "      <td>39.0</td>\n",
       "      <td>0.966</td>\n",
       "      <td>6.9</td>\n",
       "      <td>12</td>\n",
       "      <td>61</td>\n",
       "      <td>3</td>\n",
       "    </tr>\n",
       "    <tr>\n",
       "      <th>5803</th>\n",
       "      <td>136</td>\n",
       "      <td>0</td>\n",
       "      <td>2021</td>\n",
       "      <td>0</td>\n",
       "      <td>88</td>\n",
       "      <td>0.0</td>\n",
       "      <td>6.5</td>\n",
       "      <td>32.0</td>\n",
       "      <td>0.709</td>\n",
       "      <td>6.9</td>\n",
       "      <td>6</td>\n",
       "      <td>61</td>\n",
       "      <td>0</td>\n",
       "    </tr>\n",
       "  </tbody>\n",
       "</table>\n",
       "<p>5533 rows × 13 columns</p>\n",
       "</div>"
      ],
      "text/plain": [
       "        id  type  release_year  age_certification  runtime  seasons  \\\n",
       "0     4413     1          1945                  7       48      1.0   \n",
       "1     3013     0          1976                  4      113      0.0   \n",
       "2      434     0          1975                  2       91      0.0   \n",
       "3     2727     0          1979                  4       94      0.0   \n",
       "4      866     0          1973                  4      133      0.0   \n",
       "...    ...   ...           ...                ...      ...      ...   \n",
       "5798    24     0          2021                  0      107      0.0   \n",
       "5799  4455     1          2021                  5       24      1.0   \n",
       "5800   124     0          2021                  0      108      0.0   \n",
       "5801    34     0          2021                  0      100      0.0   \n",
       "5803   136     0          2021                  0       88      0.0   \n",
       "\n",
       "      imdb_score  imdb_votes  tmdb_popularity  tmdb_score  genre1  country1  \\\n",
       "0            6.6      2279.0            0.600         6.9       4        88   \n",
       "1            8.3    795222.0           27.612         8.2       3        88   \n",
       "2            8.2    530877.0           18.216         7.8       2        27   \n",
       "3            8.0    392419.0           17.505         7.8       2        27   \n",
       "4            8.1    391942.0           95.337         7.7       9        88   \n",
       "...          ...         ...              ...         ...     ...       ...   \n",
       "5798         2.2       950.0            2.911         4.0       5        38   \n",
       "5799         6.6      2279.0            0.600         6.9       2        61   \n",
       "5800         5.8        26.0            4.112         6.9       2        66   \n",
       "5801         6.9        39.0            0.966         6.9      12        61   \n",
       "5803         6.5        32.0            0.709         6.9       6        61   \n",
       "\n",
       "      Clusters  \n",
       "0            1  \n",
       "1            2  \n",
       "2            2  \n",
       "3            2  \n",
       "4            2  \n",
       "...        ...  \n",
       "5798         0  \n",
       "5799         4  \n",
       "5800         0  \n",
       "5801         3  \n",
       "5803         0  \n",
       "\n",
       "[5533 rows x 13 columns]"
      ]
     },
     "execution_count": 80,
     "metadata": {},
     "output_type": "execute_result"
    }
   ],
   "source": [
    "df_titles"
   ]
  },
  {
   "cell_type": "markdown",
   "id": "cb58e012",
   "metadata": {},
   "source": [
    "### Model Evaluation"
   ]
  },
  {
   "cell_type": "markdown",
   "id": "1bcb6119",
   "metadata": {},
   "source": [
    "After the cluster successfully distributed, we analyze the result by using visualize tools to compare and find the cluster characteristic as the following steps. The scatterplot is use to see the relationship of score with popularity of each cluster. The cluster 0 show relatively highier score and cluster 4 has the lower score."
   ]
  },
  {
   "cell_type": "code",
   "execution_count": 81,
   "id": "622ce1f5",
   "metadata": {},
   "outputs": [
    {
     "data": {
      "text/plain": [
       "<matplotlib.legend.Legend at 0x1c2de1e4130>"
      ]
     },
     "execution_count": 81,
     "metadata": {},
     "output_type": "execute_result"
    },
    {
     "data": {
      "image/png": "[encoded data removed]",
      "text/plain": [
       "<Figure size 576x396 with 1 Axes>"
      ]
     },
     "metadata": {},
     "output_type": "display_data"
    }
   ],
   "source": [
    "pl = sns.scatterplot(data = df_titles,x=df_titles[\"tmdb_popularity\"], y=df_titles[\"tmdb_score\"],hue=df_titles[\"Clusters\"])\n",
    "pl.set_title(\"Cluster's Profile Based On tmdb popularity\")\n",
    "plt.legend()"
   ]
  },
  {
   "cell_type": "markdown",
   "id": "a21c8fb0",
   "metadata": {},
   "source": [
    "Next, do the boxplot analysis to see each cluster characteristic with season, runtime, imdb_score, imdb_votes, tmdb_popularity and tmdb_score."
   ]
  },
  {
   "cell_type": "code",
   "execution_count": 82,
   "id": "7ce3856b",
   "metadata": {},
   "outputs": [
    {
     "data": {
      "image/png": "[encoded data removed]",
      "text/plain": [
       "<Figure size 576x396 with 1 Axes>"
      ]
     },
     "metadata": {},
     "output_type": "display_data"
    }
   ],
   "source": [
    "pl=sns.boxenplot(x=df_titles[\"Clusters\"], y=df_titles[\"seasons\"])"
   ]
  },
  {
   "cell_type": "code",
   "execution_count": 83,
   "id": "24ded20e",
   "metadata": {},
   "outputs": [
    {
     "data": {
      "image/png": "[encoded data removed]",
      "text/plain": [
       "<Figure size 576x396 with 1 Axes>"
      ]
     },
     "metadata": {},
     "output_type": "display_data"
    }
   ],
   "source": [
    "pl=sns.boxenplot(x=df_titles[\"Clusters\"], y=df_titles[\"runtime\"])"
   ]
  },
  {
   "cell_type": "code",
   "execution_count": 84,
   "id": "df9dd3bd",
   "metadata": {},
   "outputs": [
    {
     "data": {
      "image/png": "[encoded data removed]",
      "text/plain": [
       "<Figure size 576x396 with 1 Axes>"
      ]
     },
     "metadata": {},
     "output_type": "display_data"
    }
   ],
   "source": [
    "pl=sns.boxenplot(x=df_titles[\"Clusters\"], y=df_titles[\"imdb_score\"])"
   ]
  },
  {
   "cell_type": "code",
   "execution_count": 85,
   "id": "659d1f6b",
   "metadata": {},
   "outputs": [
    {
     "data": {
      "image/png": "[encoded data removed]",
      "text/plain": [
       "<Figure size 576x396 with 1 Axes>"
      ]
     },
     "metadata": {},
     "output_type": "display_data"
    }
   ],
   "source": [
    "pl=sns.boxenplot(x=df_titles[\"Clusters\"], y=df_titles[\"imdb_votes\"])"
   ]
  },
  {
   "cell_type": "code",
   "execution_count": 86,
   "id": "3c0e208e",
   "metadata": {},
   "outputs": [
    {
     "data": {
      "image/png": "[encoded data removed]",
      "text/plain": [
       "<Figure size 576x396 with 1 Axes>"
      ]
     },
     "metadata": {},
     "output_type": "display_data"
    }
   ],
   "source": [
    "pl=sns.boxenplot(x=df_titles[\"Clusters\"], y=df_titles[\"tmdb_popularity\"])"
   ]
  },
  {
   "cell_type": "code",
   "execution_count": 87,
   "id": "c5d45f6d",
   "metadata": {},
   "outputs": [
    {
     "data": {
      "image/png": "[encoded data removed]",
      "text/plain": [
       "<Figure size 576x396 with 1 Axes>"
      ]
     },
     "metadata": {},
     "output_type": "display_data"
    }
   ],
   "source": [
    "pl=sns.boxenplot(x=df_titles[\"Clusters\"], y=df_titles[\"tmdb_score\"])"
   ]
  },
  {
   "cell_type": "markdown",
   "id": "5934df66",
   "metadata": {},
   "source": [
    "From the different boxplot above we can observed that:"
   ]
  },
  {
   "cell_type": "markdown",
   "id": "80bdf215",
   "metadata": {},
   "source": [
    "Cluster 0\n",
    "* has average number of season\n",
    "* has shorter runtime\n",
    "* has average imdb score\n",
    "* has low number of imdb votes\n",
    "* has low popularity\n",
    "* has high tmdb score\n",
    "\n",
    "Cluster 1\n",
    "* has less season\n",
    "* has average runtime\n",
    "* has average imdb score\n",
    "* has low number of imdb votes\n",
    "* has low popularity\n",
    "* has average tmdb score\n",
    "\n",
    "Cluster 2\n",
    "* has more number of season\n",
    "* has shorter runtime\n",
    "* has highest imdb score\n",
    "* has highest number of imdb votes\n",
    "* has highest popularity\n",
    "* has highest tmdb score\n",
    "\n",
    "Cluster 3\n",
    "* has less season\n",
    "* has longest runtime\n",
    "* has average imdb score\n",
    "* has high number of imdb votes\n",
    "* has high popularity\n",
    "* has average tmdb score\n",
    "\n",
    "Cluster 4\n",
    "* has less season\n",
    "* has average runtime\n",
    "* has lowest imdb score\n",
    "* has low number of imdb votes\n",
    "* has low popularity\n",
    "* has lowest tmdb score"
   ]
  },
  {
   "cell_type": "markdown",
   "id": "71f3f062",
   "metadata": {},
   "source": [
    "# Conclusion"
   ]
  },
  {
   "cell_type": "markdown",
   "id": "07015750",
   "metadata": {},
   "source": [
    "From the analysis and result, we identified the analysis question and results are as the following:"
   ]
  },
  {
   "cell_type": "markdown",
   "id": "4dc0f4dc",
   "metadata": {},
   "source": [
    "1. According to imdb and tmdb review ratings, Netflix users have a clear preference towards TV shows over movies.\n",
    "<br>\n",
    "\n",
    "2. For typical TV series on Netflix, their review ratings remain relatively constant between 7.0 and near 8.0 for both imdb and tmdb. This indicates that the number of seasons have minimal impact on a show's review rating. As the number of season increases, the popularity of show increases among both imdg and tmdb users. However, this effect cannot be extrapolate indefinitely as the popularity peaks at around season 6 or season 7. \n",
    "<br>\n",
    "\n",
    "3. To find out the most popular genres among the clients, it is important to break the market down to digestible chunks. Shows and movies are analysed separately as they involve very different consumption behaviors. The production country of the show or movie is also added to the equation due to their great influence on the style of storytelling. For shows, the most popular genres are **US**(thriller, crime, drame, action, scifi and war), **Korea** (action, drama, scifi, horror), **Japan** (animation, scifi, thriller), **Great Britain** (comedy, drama, war, crime, romance). For movies, the pattern of clients' preferences are much more chaotic and difficult to make sense of. However, it remains clear that the **US** movies with genres of drama, crime, scifi, comedy, action, thriller and western are still dominating at least the imdb database. \n",
    "<br>\n",
    "\n",
    "4. Netflix has been diversifying its market as part of its growing strategy. The top 5 countries where it gets most of its shows from are **US, Japan, Korea, Great Britain, and Spain**, matching the preferences of its clients perfectly. For movies, most of them are sourced from the **US**, followed by **India, Great Britain, France and Spain**.\n",
    "<br>\n",
    "\n",
    "5. From the analysis, it is clear that age_certification does affect the popularity of shows and movies. In general, the audience do enjoy certain extent of stimulating content as R-rated movies and TV-MA rated TV shows are the best performing age_certification. Nonetheless, it is important to note that TV-Y7 catered for children around 7-years-old are hving very high tmdb_popularity as well. \n",
    "<br>\n",
    "\n",
    "6.  By applying K-Means with elbow clustering algorithms to our dataset, we get the optimal number of cluster is equal to 5 with different characteristic for Netflix to refer for better target group marketing strategy plan in future."
   ]
  },
  {
   "cell_type": "markdown",
   "id": "5da6bc88",
   "metadata": {},
   "source": [
    "In a nutshell, Netflix data is really interesting to study to analyze the customer preferences and the trend of the performance. However, due to the limited time and experience that our team has, there are certain limitations and contributions to this project. The method selection for the machine learning was made based on the restricted capability of our team. For future works, we suggest that for modelling improvement, to study more and different model of machine learning to compare the result using different method of machine learning to have more insight from the data and can increase the accuracy of the prediction and clustering."
   ]
  }
 ],
 "metadata": {
  "kernelspec": {
   "display_name": "Python 3",
   "language": "python",
   "name": "python3"
  },
  "language_info": {
   "codemirror_mode": {
    "name": "ipython",
    "version": 3
   },
   "file_extension": ".py",
   "mimetype": "text/x-python",
   "name": "python",
   "nbconvert_exporter": "python",
   "pygments_lexer": "ipython3",
   "version": "3.8.8"
  },
  "toc": {
   "base_numbering": 1,
   "nav_menu": {},
   "number_sections": true,
   "sideBar": true,
   "skip_h1_title": false,
   "title_cell": "Table of Contents",
   "title_sidebar": "Contents",
   "toc_cell": true,
   "toc_position": {
    "height": "calc(100% - 180px)",
    "left": "10px",
    "top": "150px",
    "width": "239.292px"
   },
   "toc_section_display": true,
   "toc_window_display": true
  }
 },
 "nbformat": 4,
 "nbformat_minor": 5
}
